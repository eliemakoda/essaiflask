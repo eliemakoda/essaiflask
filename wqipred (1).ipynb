{
 "cells": [
  {
   "cell_type": "code",
   "execution_count": 1,
   "id": "6df5410f",
   "metadata": {},
   "outputs": [],
   "source": [
    "import pandas as pd\n",
    "import numpy as np\n",
    "import xgboost as xgb\n",
    "import seaborn as sns\n",
    "import matplotlib.pyplot as plt\n",
    "\n",
    "from sklearn import preprocessing\n",
    "from sklearn.preprocessing import StandardScaler, LabelEncoder\n",
    "from sklearn.model_selection import train_test_split, KFold, cross_val_score\n",
    "from matplotlib import rcParams\n",
    "from sklearn import metrics\n",
    "from sklearn.metrics import accuracy_score, classification_report, confusion_matrix"
   ]
  },
  {
   "cell_type": "code",
   "execution_count": 2,
   "id": "6f84f2d5",
   "metadata": {},
   "outputs": [],
   "source": [
    "df = pd.read_csv('data/waterparams_lagunalake.csv')"
   ]
  },
  {
   "cell_type": "code",
   "execution_count": 3,
   "id": "d1708e89",
   "metadata": {},
   "outputs": [
    {
     "data": {
      "text/html": [
       "<div>\n",
       "<style scoped>\n",
       "    .dataframe tbody tr th:only-of-type {\n",
       "        vertical-align: middle;\n",
       "    }\n",
       "\n",
       "    .dataframe tbody tr th {\n",
       "        vertical-align: top;\n",
       "    }\n",
       "\n",
       "    .dataframe thead th {\n",
       "        text-align: right;\n",
       "    }\n",
       "</style>\n",
       "<table border=\"1\" class=\"dataframe\">\n",
       "  <thead>\n",
       "    <tr style=\"text-align: right;\">\n",
       "      <th></th>\n",
       "      <th>id</th>\n",
       "      <th>Station</th>\n",
       "      <th>Month</th>\n",
       "      <th>BOD</th>\n",
       "      <th>DO</th>\n",
       "      <th>pH</th>\n",
       "      <th>Phosphate</th>\n",
       "      <th>Ammonia</th>\n",
       "      <th>Nitrate</th>\n",
       "      <th>Year</th>\n",
       "    </tr>\n",
       "  </thead>\n",
       "  <tbody>\n",
       "    <tr>\n",
       "      <th>0</th>\n",
       "      <td>1</td>\n",
       "      <td>Stn. I (Central West bay)</td>\n",
       "      <td>1</td>\n",
       "      <td>1.0</td>\n",
       "      <td>7.9</td>\n",
       "      <td>8.4</td>\n",
       "      <td>0.087</td>\n",
       "      <td>0.001</td>\n",
       "      <td>0.223</td>\n",
       "      <td>2017</td>\n",
       "    </tr>\n",
       "    <tr>\n",
       "      <th>1</th>\n",
       "      <td>2</td>\n",
       "      <td>Stn. II (East Bay)</td>\n",
       "      <td>1</td>\n",
       "      <td>1.0</td>\n",
       "      <td>7.7</td>\n",
       "      <td>8.0</td>\n",
       "      <td>0.084</td>\n",
       "      <td>0.001</td>\n",
       "      <td>0.343</td>\n",
       "      <td>2017</td>\n",
       "    </tr>\n",
       "    <tr>\n",
       "      <th>2</th>\n",
       "      <td>3</td>\n",
       "      <td>Stn. IV (Central Bay)</td>\n",
       "      <td>1</td>\n",
       "      <td>1.0</td>\n",
       "      <td>8.1</td>\n",
       "      <td>8.3</td>\n",
       "      <td>0.072</td>\n",
       "      <td>0.001</td>\n",
       "      <td>0.149</td>\n",
       "      <td>2017</td>\n",
       "    </tr>\n",
       "    <tr>\n",
       "      <th>3</th>\n",
       "      <td>4</td>\n",
       "      <td>Stn. V ( Nothern West Bay)</td>\n",
       "      <td>1</td>\n",
       "      <td>1.0</td>\n",
       "      <td>8.5</td>\n",
       "      <td>8.1</td>\n",
       "      <td>0.181</td>\n",
       "      <td>0.001</td>\n",
       "      <td>0.344</td>\n",
       "      <td>2017</td>\n",
       "    </tr>\n",
       "    <tr>\n",
       "      <th>4</th>\n",
       "      <td>5</td>\n",
       "      <td>Stn. VIII (South Bay)</td>\n",
       "      <td>1</td>\n",
       "      <td>1.0</td>\n",
       "      <td>7.6</td>\n",
       "      <td>8.0</td>\n",
       "      <td>0.101</td>\n",
       "      <td>0.001</td>\n",
       "      <td>0.335</td>\n",
       "      <td>2017</td>\n",
       "    </tr>\n",
       "  </tbody>\n",
       "</table>\n",
       "</div>"
      ],
      "text/plain": [
       "   id                     Station  Month  BOD   DO   pH  Phosphate  Ammonia  \\\n",
       "0   1   Stn. I (Central West bay)      1  1.0  7.9  8.4      0.087    0.001   \n",
       "1   2          Stn. II (East Bay)      1  1.0  7.7  8.0      0.084    0.001   \n",
       "2   3       Stn. IV (Central Bay)      1  1.0  8.1  8.3      0.072    0.001   \n",
       "3   4  Stn. V ( Nothern West Bay)      1  1.0  8.5  8.1      0.181    0.001   \n",
       "4   5       Stn. VIII (South Bay)      1  1.0  7.6  8.0      0.101    0.001   \n",
       "\n",
       "   Nitrate  Year  \n",
       "0    0.223  2017  \n",
       "1    0.343  2017  \n",
       "2    0.149  2017  \n",
       "3    0.344  2017  \n",
       "4    0.335  2017  "
      ]
     },
     "execution_count": 3,
     "metadata": {},
     "output_type": "execute_result"
    }
   ],
   "source": [
    "df.head()"
   ]
  },
  {
   "cell_type": "code",
   "execution_count": 4,
   "id": "2fb97960",
   "metadata": {
    "scrolled": true
   },
   "outputs": [
    {
     "data": {
      "text/html": [
       "<div>\n",
       "<style scoped>\n",
       "    .dataframe tbody tr th:only-of-type {\n",
       "        vertical-align: middle;\n",
       "    }\n",
       "\n",
       "    .dataframe tbody tr th {\n",
       "        vertical-align: top;\n",
       "    }\n",
       "\n",
       "    .dataframe thead th {\n",
       "        text-align: right;\n",
       "    }\n",
       "</style>\n",
       "<table border=\"1\" class=\"dataframe\">\n",
       "  <thead>\n",
       "    <tr style=\"text-align: right;\">\n",
       "      <th></th>\n",
       "      <th>id</th>\n",
       "      <th>Month</th>\n",
       "      <th>BOD</th>\n",
       "      <th>DO</th>\n",
       "      <th>pH</th>\n",
       "      <th>Phosphate</th>\n",
       "      <th>Ammonia</th>\n",
       "      <th>Nitrate</th>\n",
       "      <th>Year</th>\n",
       "    </tr>\n",
       "  </thead>\n",
       "  <tbody>\n",
       "    <tr>\n",
       "      <th>count</th>\n",
       "      <td>557.000000</td>\n",
       "      <td>557.000000</td>\n",
       "      <td>539.000000</td>\n",
       "      <td>557.000000</td>\n",
       "      <td>557.000000</td>\n",
       "      <td>557.000000</td>\n",
       "      <td>539.000000</td>\n",
       "      <td>503.000000</td>\n",
       "      <td>557.000000</td>\n",
       "    </tr>\n",
       "    <tr>\n",
       "      <th>mean</th>\n",
       "      <td>279.000000</td>\n",
       "      <td>6.448833</td>\n",
       "      <td>2.666419</td>\n",
       "      <td>8.023878</td>\n",
       "      <td>8.396948</td>\n",
       "      <td>0.122050</td>\n",
       "      <td>0.057494</td>\n",
       "      <td>0.175185</td>\n",
       "      <td>2019.271095</td>\n",
       "    </tr>\n",
       "    <tr>\n",
       "      <th>std</th>\n",
       "      <td>160.936323</td>\n",
       "      <td>3.477521</td>\n",
       "      <td>1.475791</td>\n",
       "      <td>1.276864</td>\n",
       "      <td>0.525680</td>\n",
       "      <td>0.085645</td>\n",
       "      <td>0.109189</td>\n",
       "      <td>0.341636</td>\n",
       "      <td>1.697472</td>\n",
       "    </tr>\n",
       "    <tr>\n",
       "      <th>min</th>\n",
       "      <td>1.000000</td>\n",
       "      <td>1.000000</td>\n",
       "      <td>0.500000</td>\n",
       "      <td>4.500000</td>\n",
       "      <td>2.700000</td>\n",
       "      <td>0.008000</td>\n",
       "      <td>0.001000</td>\n",
       "      <td>0.001000</td>\n",
       "      <td>2017.000000</td>\n",
       "    </tr>\n",
       "    <tr>\n",
       "      <th>25%</th>\n",
       "      <td>140.000000</td>\n",
       "      <td>3.000000</td>\n",
       "      <td>2.000000</td>\n",
       "      <td>7.300000</td>\n",
       "      <td>8.100000</td>\n",
       "      <td>0.066000</td>\n",
       "      <td>0.012000</td>\n",
       "      <td>0.050000</td>\n",
       "      <td>2018.000000</td>\n",
       "    </tr>\n",
       "    <tr>\n",
       "      <th>50%</th>\n",
       "      <td>279.000000</td>\n",
       "      <td>6.000000</td>\n",
       "      <td>2.000000</td>\n",
       "      <td>7.800000</td>\n",
       "      <td>8.300000</td>\n",
       "      <td>0.102000</td>\n",
       "      <td>0.030000</td>\n",
       "      <td>0.050000</td>\n",
       "      <td>2019.000000</td>\n",
       "    </tr>\n",
       "    <tr>\n",
       "      <th>75%</th>\n",
       "      <td>418.000000</td>\n",
       "      <td>9.000000</td>\n",
       "      <td>3.000000</td>\n",
       "      <td>8.400000</td>\n",
       "      <td>8.700000</td>\n",
       "      <td>0.153000</td>\n",
       "      <td>0.057500</td>\n",
       "      <td>0.221500</td>\n",
       "      <td>2021.000000</td>\n",
       "    </tr>\n",
       "    <tr>\n",
       "      <th>max</th>\n",
       "      <td>557.000000</td>\n",
       "      <td>12.000000</td>\n",
       "      <td>10.000000</td>\n",
       "      <td>17.200000</td>\n",
       "      <td>9.700000</td>\n",
       "      <td>0.805000</td>\n",
       "      <td>1.540000</td>\n",
       "      <td>4.434000</td>\n",
       "      <td>2022.000000</td>\n",
       "    </tr>\n",
       "  </tbody>\n",
       "</table>\n",
       "</div>"
      ],
      "text/plain": [
       "               id       Month         BOD          DO          pH   Phosphate  \\\n",
       "count  557.000000  557.000000  539.000000  557.000000  557.000000  557.000000   \n",
       "mean   279.000000    6.448833    2.666419    8.023878    8.396948    0.122050   \n",
       "std    160.936323    3.477521    1.475791    1.276864    0.525680    0.085645   \n",
       "min      1.000000    1.000000    0.500000    4.500000    2.700000    0.008000   \n",
       "25%    140.000000    3.000000    2.000000    7.300000    8.100000    0.066000   \n",
       "50%    279.000000    6.000000    2.000000    7.800000    8.300000    0.102000   \n",
       "75%    418.000000    9.000000    3.000000    8.400000    8.700000    0.153000   \n",
       "max    557.000000   12.000000   10.000000   17.200000    9.700000    0.805000   \n",
       "\n",
       "          Ammonia     Nitrate         Year  \n",
       "count  539.000000  503.000000   557.000000  \n",
       "mean     0.057494    0.175185  2019.271095  \n",
       "std      0.109189    0.341636     1.697472  \n",
       "min      0.001000    0.001000  2017.000000  \n",
       "25%      0.012000    0.050000  2018.000000  \n",
       "50%      0.030000    0.050000  2019.000000  \n",
       "75%      0.057500    0.221500  2021.000000  \n",
       "max      1.540000    4.434000  2022.000000  "
      ]
     },
     "execution_count": 4,
     "metadata": {},
     "output_type": "execute_result"
    }
   ],
   "source": [
    "df.describe()"
   ]
  },
  {
   "cell_type": "code",
   "execution_count": 5,
   "id": "535ea2c0",
   "metadata": {},
   "outputs": [
    {
     "name": "stdout",
     "output_type": "stream",
     "text": [
      "<class 'pandas.core.frame.DataFrame'>\n",
      "RangeIndex: 557 entries, 0 to 556\n",
      "Data columns (total 10 columns):\n",
      " #   Column     Non-Null Count  Dtype  \n",
      "---  ------     --------------  -----  \n",
      " 0   id         557 non-null    int64  \n",
      " 1   Station    557 non-null    object \n",
      " 2   Month      557 non-null    int64  \n",
      " 3   BOD        539 non-null    float64\n",
      " 4   DO         557 non-null    float64\n",
      " 5   pH         557 non-null    float64\n",
      " 6   Phosphate  557 non-null    float64\n",
      " 7   Ammonia    539 non-null    float64\n",
      " 8   Nitrate    503 non-null    float64\n",
      " 9   Year       557 non-null    int64  \n",
      "dtypes: float64(6), int64(3), object(1)\n",
      "memory usage: 43.6+ KB\n"
     ]
    }
   ],
   "source": [
    "df.info()"
   ]
  },
  {
   "cell_type": "code",
   "execution_count": 6,
   "id": "4bd294b0",
   "metadata": {},
   "outputs": [
    {
     "data": {
      "text/plain": [
       "<seaborn.axisgrid.FacetGrid at 0x208fb1141c0>"
      ]
     },
     "execution_count": 6,
     "metadata": {},
     "output_type": "execute_result"
    },
    {
     "data": {
      "image/png": "[encoded data removed]",
      "text/plain": [
       "<Figure size 500x500 with 1 Axes>"
      ]
     },
     "metadata": {},
     "output_type": "display_data"
    }
   ],
   "source": [
    "sns.displot(df['BOD'])"
   ]
  },
  {
   "cell_type": "code",
   "execution_count": null,
   "id": "9bdbc4ed",
   "metadata": {},
   "outputs": [],
   "source": []
  },
  {
   "cell_type": "code",
   "execution_count": null,
   "id": "bf43da10",
   "metadata": {},
   "outputs": [],
   "source": []
  },
  {
   "cell_type": "code",
   "execution_count": null,
   "id": "97ca9422",
   "metadata": {},
   "outputs": [],
   "source": []
  },
  {
   "cell_type": "code",
   "execution_count": null,
   "id": "965b0a32",
   "metadata": {},
   "outputs": [],
   "source": []
  },
  {
   "cell_type": "code",
   "execution_count": 7,
   "id": "ceb46562",
   "metadata": {},
   "outputs": [
    {
     "data": {
      "text/plain": [
       "id            0\n",
       "Station       0\n",
       "Month         0\n",
       "BOD          18\n",
       "DO            0\n",
       "pH            0\n",
       "Phosphate     0\n",
       "Ammonia      18\n",
       "Nitrate      54\n",
       "Year          0\n",
       "dtype: int64"
      ]
     },
     "execution_count": 7,
     "metadata": {},
     "output_type": "execute_result"
    }
   ],
   "source": [
    "df.isnull().sum()"
   ]
  },
  {
   "cell_type": "code",
   "execution_count": 8,
   "id": "d9abb47f",
   "metadata": {},
   "outputs": [
    {
     "data": {
      "text/plain": [
       "<AxesSubplot:title={'center':'Missing Values Per Feature'}>"
      ]
     },
     "execution_count": 8,
     "metadata": {},
     "output_type": "execute_result"
    }
   ],
   "source": [
    "plt.title('Missing Values Per Feature')\n",
    "nans = df.isna().sum().sort_values(ascending=False).to_frame()\n",
    "sns.heatmap(nans,annot=True,fmt='d',cmap='vlag')"
   ]
  },
  {
   "cell_type": "code",
   "execution_count": 9,
   "id": "20354b6c",
   "metadata": {},
   "outputs": [],
   "source": [
    "#data['DO']=pd.to_numeric(data['DO'],errors='coerce')"
   ]
  },
  {
   "cell_type": "code",
   "execution_count": 10,
   "id": "ac51ebf7",
   "metadata": {},
   "outputs": [
    {
     "data": {
      "text/plain": [
       "id           0\n",
       "Station      0\n",
       "Month        0\n",
       "BOD          0\n",
       "DO           0\n",
       "pH           0\n",
       "Phosphate    0\n",
       "Ammonia      0\n",
       "Nitrate      0\n",
       "Year         0\n",
       "dtype: int64"
      ]
     },
     "execution_count": 10,
     "metadata": {},
     "output_type": "execute_result"
    }
   ],
   "source": [
    "df['BOD'] = df['BOD'].fillna(df['BOD'].mean())\n",
    "df['DO'] = df['DO'].fillna(df['DO'].mean())\n",
    "df['pH'] = df['pH'].fillna(df['pH'].mean())\n",
    "df['Phosphate'] = df['Phosphate'].fillna(df['Phosphate'].mean())\n",
    "df['Ammonia'] = df['Ammonia'].fillna(df['Ammonia'].mean())\n",
    "df['Nitrate'] = df['Nitrate'].fillna(df['Nitrate'].mean())\n",
    "df.isnull().sum()"
   ]
  },
  {
   "cell_type": "code",
   "execution_count": 11,
   "id": "07c5396b",
   "metadata": {},
   "outputs": [
    {
     "data": {
      "text/plain": [
       "Text(0.5, 1.0, 'pH per year')"
      ]
     },
     "execution_count": 11,
     "metadata": {},
     "output_type": "execute_result"
    }
   ],
   "source": [
    "fig,ax = plt.subplots(figsize=(8,6))\n",
    "sns.boxplot(data=df, x='Year', y='pH')\n",
    "ax.set_title('pH per year')"
   ]
  },
  {
   "cell_type": "code",
   "execution_count": 12,
   "id": "1049446c",
   "metadata": {},
   "outputs": [
    {
     "data": {
      "text/plain": [
       "Text(0.5, 1.0, 'BOD per year')"
      ]
     },
     "execution_count": 12,
     "metadata": {},
     "output_type": "execute_result"
    }
   ],
   "source": [
    "fig,ax = plt.subplots(figsize=(8,6))\n",
    "sns.boxplot(data=df, x='Year', y='BOD')\n",
    "ax.set_title('BOD per year')"
   ]
  },
  {
   "cell_type": "code",
   "execution_count": 13,
   "id": "13c43178",
   "metadata": {},
   "outputs": [
    {
     "data": {
      "text/plain": [
       "Text(0.5, 1.0, 'Dissolve oxygen per year')"
      ]
     },
     "execution_count": 13,
     "metadata": {},
     "output_type": "execute_result"
    }
   ],
   "source": [
    "fig,ax = plt.subplots(figsize=(8,6))\n",
    "sns.boxplot(data=df, x='Year', y='DO')\n",
    "ax.set_title('Dissolve oxygen per year')"
   ]
  },
  {
   "cell_type": "code",
   "execution_count": 14,
   "id": "c25f9e8a",
   "metadata": {},
   "outputs": [
    {
     "data": {
      "text/plain": [
       "Text(0.5, 1.0, 'Phosphate per year')"
      ]
     },
     "execution_count": 14,
     "metadata": {},
     "output_type": "execute_result"
    }
   ],
   "source": [
    "fig,ax = plt.subplots(figsize=(8,6))\n",
    "sns.boxplot(data=df, x='Year', y='Phosphate')\n",
    "ax.set_title('Phosphate per year')"
   ]
  },
  {
   "cell_type": "code",
   "execution_count": 15,
   "id": "a137b560",
   "metadata": {},
   "outputs": [
    {
     "data": {
      "text/plain": [
       "Text(0.5, 1.0, 'Ammonia per year')"
      ]
     },
     "execution_count": 15,
     "metadata": {},
     "output_type": "execute_result"
    }
   ],
   "source": [
    "fig,ax = plt.subplots(figsize=(8,6))\n",
    "sns.boxplot(data=df, x='Year', y='Ammonia')\n",
    "ax.set_title('Ammonia per year')"
   ]
  },
  {
   "cell_type": "code",
   "execution_count": 16,
   "id": "bb11abb3",
   "metadata": {},
   "outputs": [
    {
     "data": {
      "text/plain": [
       "Text(0.5, 1.0, 'Nitrate per year')"
      ]
     },
     "execution_count": 16,
     "metadata": {},
     "output_type": "execute_result"
    }
   ],
   "source": [
    "fig,ax = plt.subplots(figsize=(8,6))\n",
    "sns.boxplot(data=df, x='Year', y='Nitrate')\n",
    "ax.set_title('Nitrate per year')"
   ]
  },
  {
   "cell_type": "code",
   "execution_count": 17,
   "id": "ff80c0b6",
   "metadata": {},
   "outputs": [
    {
     "ename": "NameError",
     "evalue": "name 'df1' is not defined",
     "output_type": "error",
     "traceback": [
      "\u001b[1;31m---------------------------------------------------------------------------\u001b[0m",
      "\u001b[1;31mNameError\u001b[0m                                 Traceback (most recent call last)",
      "\u001b[1;32m~\\AppData\\Local\\Temp\\ipykernel_9360\\3793000990.py\u001b[0m in \u001b[0;36m<module>\u001b[1;34m\u001b[0m\n\u001b[0;32m      1\u001b[0m \u001b[0mplt\u001b[0m\u001b[1;33m.\u001b[0m\u001b[0mrcParams\u001b[0m\u001b[1;33m[\u001b[0m\u001b[1;34m'figure.figsize'\u001b[0m\u001b[1;33m]\u001b[0m \u001b[1;33m=\u001b[0m \u001b[1;33m[\u001b[0m\u001b[1;36m12\u001b[0m\u001b[1;33m,\u001b[0m\u001b[1;36m10\u001b[0m\u001b[1;33m]\u001b[0m\u001b[1;33m\u001b[0m\u001b[1;33m\u001b[0m\u001b[0m\n\u001b[1;32m----> 2\u001b[1;33m \u001b[0mdf1\u001b[0m\u001b[1;33m.\u001b[0m\u001b[0mhist\u001b[0m\u001b[1;33m(\u001b[0m\u001b[1;33m)\u001b[0m\u001b[1;33m\u001b[0m\u001b[1;33m\u001b[0m\u001b[0m\n\u001b[0m\u001b[0;32m      3\u001b[0m \u001b[0mplt\u001b[0m\u001b[1;33m.\u001b[0m\u001b[0mshow\u001b[0m\u001b[1;33m(\u001b[0m\u001b[1;33m)\u001b[0m\u001b[1;33m\u001b[0m\u001b[1;33m\u001b[0m\u001b[0m\n",
      "\u001b[1;31mNameError\u001b[0m: name 'df1' is not defined"
     ]
    }
   ],
   "source": [
    "plt.rcParams['figure.figsize'] = [12,10]\n",
    "df1.hist()\n",
    "plt.show()"
   ]
  },
  {
   "cell_type": "code",
   "execution_count": null,
   "id": "0e68a3ea",
   "metadata": {},
   "outputs": [],
   "source": [
    "#df1.drop(['id','Station','Month','Year'], axis=1, inplace=True)\n",
    "\n",
    "plt.figure(figsize=(8,6.5))\n",
    "plt.title(\"Correlation Graph of all features\")\n",
    "sns.heatmap(df1.corr(),annot=True, cmap='coolwarm')\n",
    "#sns.heatmap(df1.corr(),annot=True, cmap='terrain')\n",
    "plt.show()"
   ]
  },
  {
   "cell_type": "markdown",
   "id": "82070572",
   "metadata": {},
   "source": [
    "(Q-Value) Water Quality Index Calculation "
   ]
  },
  {
   "cell_type": "markdown",
   "id": "8202b384",
   "metadata": {},
   "source": [
    "Q-Value of pH"
   ]
  },
  {
   "cell_type": "markdown",
   "id": "76d5889f",
   "metadata": {},
   "source": [
    "      WQI = ∑ qi × wi / ∑ wi\n",
    "\n",
    " wi - Unit weight of ith parameter\n",
    "\n",
    " qi - Quality estimate scale of each parameter, it is calculated with the formula - \n",
    "     \n",
    "     qi = 100 × ( Vi − VIdeal / Si − VIdeal )\n",
    "\n",
    " Vi - Measured value of ith parameter\n",
    "\n",
    " Videal - Ideal value of ith parameter\n",
    "\n",
    " Si - Standard value recommended for ith parameter\n",
    " \n",
    " wi is calculated by the formula -\n",
    "\n",
    "       wi = K / Si\n",
    "\n",
    "  Here K is proportionality constant which is -\n",
    "\n",
    "        K = 1 / ∑ Si"
   ]
  },
  {
   "cell_type": "code",
   "execution_count": 18,
   "id": "35e2aaa7",
   "metadata": {},
   "outputs": [],
   "source": [
    "#Assigned standard value based from WHO\n",
    "sv_bod = 6\n",
    "sv_do = 5\n",
    "sv_pH = 7.5\n",
    "sv_phosphates = .1\n",
    "sv_ammonia = .3\n",
    "sv_nitrate = 45"
   ]
  },
  {
   "cell_type": "markdown",
   "id": "a8625d9f",
   "metadata": {},
   "source": [
    "Equation for proportionalconstant :\n",
    "K = 1 / ∑ (Si)"
   ]
  },
  {
   "cell_type": "code",
   "execution_count": 19,
   "id": "e2545d4b",
   "metadata": {},
   "outputs": [],
   "source": [
    "K = 1/((1/sv_bod) + (1/sv_do) + (1/sv_pH) + (1/sv_phosphates) + (1/sv_ammonia) + (1/sv_nitrate))"
   ]
  },
  {
   "cell_type": "markdown",
   "id": "94255708",
   "metadata": {},
   "source": [
    "To calculate the unit wait (Wi) for each water parameter:\n",
    "    wi = K / Si"
   ]
  },
  {
   "cell_type": "code",
   "execution_count": 20,
   "id": "7b231da5",
   "metadata": {},
   "outputs": [],
   "source": [
    "df['WiBOD'] = K/sv_bod\n",
    "df['WiDO'] = K/sv_bod\n",
    "df['WipH'] = K/sv_pH\n",
    "df['WiPhosphate'] = K/sv_phosphates\n",
    "df['WiAmmonia'] = K/sv_ammonia\n",
    "df['WiNitrate'] = K/sv_nitrate"
   ]
  },
  {
   "cell_type": "markdown",
   "id": "259b4480",
   "metadata": {},
   "source": [
    "Quality estimate scale of each parameter\n",
    "\n",
    "   qi = 100 × ( Vi − VIdeal / Si − VIdeal )\n",
    "     Vi - Measured value of ith parameter\n",
    "     Videal - Ideal value of ith parameter\n",
    "     Si - Standard value recommended for ith parameter\n"
   ]
  },
  {
   "cell_type": "code",
   "execution_count": 21,
   "id": "6e71539c",
   "metadata": {},
   "outputs": [],
   "source": [
    "qi_bod = 100 * ((df['BOD'] - 0)/(sv_bod - 0))\n",
    "qi_do = 100 * ((df['DO'] - 14.6)/(sv_do - 14.6))\n",
    "qi_ph = 100 * ((df['pH'] - 7)/(sv_pH - 7))\n",
    "qi_phosphates = 100 * ((df['Phosphate'] - 0)/(sv_phosphates - 0))\n",
    "qi_ammonia = 100 * ((df['Ammonia'] - 0)/(sv_ammonia - 0))\n",
    "qi_nitrate = 100 * ((df['Nitrate'] - 0)/(sv_nitrate - 0))"
   ]
  },
  {
   "cell_type": "markdown",
   "id": "dc2b2202",
   "metadata": {},
   "source": []
  },
  {
   "cell_type": "code",
   "execution_count": 22,
   "id": "8cad0d7a",
   "metadata": {},
   "outputs": [],
   "source": [
    "# quality scale of each parameter multiply by its unit weight [qi x wi]\n",
    "xbod = qi_bod * df.WiBOD\n",
    "xdo = qi_do * df.WiDO\n",
    "xph = qi_ph * df.WipH\n",
    "xphosphates = qi_phosphates * df.WiPhosphate\n",
    "xammonia = qi_ammonia * df.WiAmmonia\n",
    "xnitrate = qi_nitrate * df.WiNitrate\n",
    "\n",
    "    #∑ qi × wi\n",
    "sum_qiwi = xbod + xdo + xph + xphosphates + xammonia + xnitrate;\n",
    "\n",
    "    #∑ wi\n",
    "sum_wi = df.WiBOD + df.WiDO + df.WipH + df.WiPhosphate + df.WiAmmonia + df.WiNitrate\n"
   ]
  },
  {
   "cell_type": "markdown",
   "id": "4058150a",
   "metadata": {},
   "source": [
    "WAWQI final computation\n",
    "\n",
    "     WQI = ∑ qi × wi / ∑ wi"
   ]
  },
  {
   "cell_type": "code",
   "execution_count": 23,
   "id": "0d717609",
   "metadata": {},
   "outputs": [
    {
     "data": {
      "text/html": [
       "<div>\n",
       "<style scoped>\n",
       "    .dataframe tbody tr th:only-of-type {\n",
       "        vertical-align: middle;\n",
       "    }\n",
       "\n",
       "    .dataframe tbody tr th {\n",
       "        vertical-align: top;\n",
       "    }\n",
       "\n",
       "    .dataframe thead th {\n",
       "        text-align: right;\n",
       "    }\n",
       "</style>\n",
       "<table border=\"1\" class=\"dataframe\">\n",
       "  <thead>\n",
       "    <tr style=\"text-align: right;\">\n",
       "      <th></th>\n",
       "      <th>id</th>\n",
       "      <th>Station</th>\n",
       "      <th>Month</th>\n",
       "      <th>BOD</th>\n",
       "      <th>DO</th>\n",
       "      <th>pH</th>\n",
       "      <th>Phosphate</th>\n",
       "      <th>Ammonia</th>\n",
       "      <th>Nitrate</th>\n",
       "      <th>Year</th>\n",
       "      <th>WiBOD</th>\n",
       "      <th>WiDO</th>\n",
       "      <th>WipH</th>\n",
       "      <th>WiPhosphate</th>\n",
       "      <th>WiAmmonia</th>\n",
       "      <th>WiNitrate</th>\n",
       "      <th>wqi</th>\n",
       "      <th>wqc</th>\n",
       "    </tr>\n",
       "  </thead>\n",
       "  <tbody>\n",
       "    <tr>\n",
       "      <th>0</th>\n",
       "      <td>1</td>\n",
       "      <td>Stn. I (Central West bay)</td>\n",
       "      <td>1</td>\n",
       "      <td>1.0</td>\n",
       "      <td>7.9</td>\n",
       "      <td>8.4</td>\n",
       "      <td>0.087</td>\n",
       "      <td>0.001</td>\n",
       "      <td>0.223</td>\n",
       "      <td>2017</td>\n",
       "      <td>0.012029</td>\n",
       "      <td>0.012029</td>\n",
       "      <td>0.009623</td>\n",
       "      <td>0.721732</td>\n",
       "      <td>0.240577</td>\n",
       "      <td>0.001604</td>\n",
       "      <td>66.77</td>\n",
       "      <td>Poor</td>\n",
       "    </tr>\n",
       "    <tr>\n",
       "      <th>1</th>\n",
       "      <td>2</td>\n",
       "      <td>Stn. II (East Bay)</td>\n",
       "      <td>1</td>\n",
       "      <td>1.0</td>\n",
       "      <td>7.7</td>\n",
       "      <td>8.0</td>\n",
       "      <td>0.084</td>\n",
       "      <td>0.001</td>\n",
       "      <td>0.343</td>\n",
       "      <td>2017</td>\n",
       "      <td>0.012029</td>\n",
       "      <td>0.012029</td>\n",
       "      <td>0.009623</td>\n",
       "      <td>0.721732</td>\n",
       "      <td>0.240577</td>\n",
       "      <td>0.001604</td>\n",
       "      <td>63.85</td>\n",
       "      <td>Poor</td>\n",
       "    </tr>\n",
       "    <tr>\n",
       "      <th>2</th>\n",
       "      <td>3</td>\n",
       "      <td>Stn. IV (Central Bay)</td>\n",
       "      <td>1</td>\n",
       "      <td>1.0</td>\n",
       "      <td>8.1</td>\n",
       "      <td>8.3</td>\n",
       "      <td>0.072</td>\n",
       "      <td>0.001</td>\n",
       "      <td>0.149</td>\n",
       "      <td>2017</td>\n",
       "      <td>0.012029</td>\n",
       "      <td>0.012029</td>\n",
       "      <td>0.009623</td>\n",
       "      <td>0.721732</td>\n",
       "      <td>0.240577</td>\n",
       "      <td>0.001604</td>\n",
       "      <td>55.70</td>\n",
       "      <td>Poor</td>\n",
       "    </tr>\n",
       "    <tr>\n",
       "      <th>3</th>\n",
       "      <td>4</td>\n",
       "      <td>Stn. V ( Nothern West Bay)</td>\n",
       "      <td>1</td>\n",
       "      <td>1.0</td>\n",
       "      <td>8.5</td>\n",
       "      <td>8.1</td>\n",
       "      <td>0.181</td>\n",
       "      <td>0.001</td>\n",
       "      <td>0.344</td>\n",
       "      <td>2017</td>\n",
       "      <td>0.012029</td>\n",
       "      <td>0.012029</td>\n",
       "      <td>0.009623</td>\n",
       "      <td>0.721732</td>\n",
       "      <td>0.240577</td>\n",
       "      <td>0.001604</td>\n",
       "      <td>134.12</td>\n",
       "      <td>Unsuitable</td>\n",
       "    </tr>\n",
       "    <tr>\n",
       "      <th>4</th>\n",
       "      <td>5</td>\n",
       "      <td>Stn. VIII (South Bay)</td>\n",
       "      <td>1</td>\n",
       "      <td>1.0</td>\n",
       "      <td>7.6</td>\n",
       "      <td>8.0</td>\n",
       "      <td>0.101</td>\n",
       "      <td>0.001</td>\n",
       "      <td>0.335</td>\n",
       "      <td>2017</td>\n",
       "      <td>0.012029</td>\n",
       "      <td>0.012029</td>\n",
       "      <td>0.009623</td>\n",
       "      <td>0.721732</td>\n",
       "      <td>0.240577</td>\n",
       "      <td>0.001604</td>\n",
       "      <td>76.16</td>\n",
       "      <td>Very Poor</td>\n",
       "    </tr>\n",
       "    <tr>\n",
       "      <th>...</th>\n",
       "      <td>...</td>\n",
       "      <td>...</td>\n",
       "      <td>...</td>\n",
       "      <td>...</td>\n",
       "      <td>...</td>\n",
       "      <td>...</td>\n",
       "      <td>...</td>\n",
       "      <td>...</td>\n",
       "      <td>...</td>\n",
       "      <td>...</td>\n",
       "      <td>...</td>\n",
       "      <td>...</td>\n",
       "      <td>...</td>\n",
       "      <td>...</td>\n",
       "      <td>...</td>\n",
       "      <td>...</td>\n",
       "      <td>...</td>\n",
       "      <td>...</td>\n",
       "    </tr>\n",
       "    <tr>\n",
       "      <th>552</th>\n",
       "      <td>553</td>\n",
       "      <td>Stn. VIII (South Bay)</td>\n",
       "      <td>9</td>\n",
       "      <td>5.0</td>\n",
       "      <td>9.1</td>\n",
       "      <td>6.8</td>\n",
       "      <td>0.150</td>\n",
       "      <td>0.040</td>\n",
       "      <td>0.010</td>\n",
       "      <td>2022</td>\n",
       "      <td>0.012029</td>\n",
       "      <td>0.012029</td>\n",
       "      <td>0.009623</td>\n",
       "      <td>0.721732</td>\n",
       "      <td>0.240577</td>\n",
       "      <td>0.001604</td>\n",
       "      <td>113.05</td>\n",
       "      <td>Unsuitable</td>\n",
       "    </tr>\n",
       "    <tr>\n",
       "      <th>553</th>\n",
       "      <td>554</td>\n",
       "      <td>Stn. XV (San Pedro)</td>\n",
       "      <td>9</td>\n",
       "      <td>3.0</td>\n",
       "      <td>7.6</td>\n",
       "      <td>7.9</td>\n",
       "      <td>0.230</td>\n",
       "      <td>0.100</td>\n",
       "      <td>0.120</td>\n",
       "      <td>2022</td>\n",
       "      <td>0.012029</td>\n",
       "      <td>0.012029</td>\n",
       "      <td>0.009623</td>\n",
       "      <td>0.721732</td>\n",
       "      <td>0.240577</td>\n",
       "      <td>0.001604</td>\n",
       "      <td>177.66</td>\n",
       "      <td>Unsuitable</td>\n",
       "    </tr>\n",
       "    <tr>\n",
       "      <th>554</th>\n",
       "      <td>555</td>\n",
       "      <td>Stn. XVI (Sta. Rosa)</td>\n",
       "      <td>9</td>\n",
       "      <td>3.0</td>\n",
       "      <td>7.7</td>\n",
       "      <td>8.0</td>\n",
       "      <td>0.150</td>\n",
       "      <td>0.030</td>\n",
       "      <td>0.050</td>\n",
       "      <td>2022</td>\n",
       "      <td>0.012029</td>\n",
       "      <td>0.012029</td>\n",
       "      <td>0.009623</td>\n",
       "      <td>0.721732</td>\n",
       "      <td>0.240577</td>\n",
       "      <td>0.001604</td>\n",
       "      <td>114.33</td>\n",
       "      <td>Unsuitable</td>\n",
       "    </tr>\n",
       "    <tr>\n",
       "      <th>555</th>\n",
       "      <td>556</td>\n",
       "      <td>Stn. XVII (Sanctuary)</td>\n",
       "      <td>9</td>\n",
       "      <td>4.0</td>\n",
       "      <td>9.2</td>\n",
       "      <td>8.7</td>\n",
       "      <td>0.050</td>\n",
       "      <td>0.040</td>\n",
       "      <td>0.050</td>\n",
       "      <td>2022</td>\n",
       "      <td>0.012029</td>\n",
       "      <td>0.012029</td>\n",
       "      <td>0.009623</td>\n",
       "      <td>0.721732</td>\n",
       "      <td>0.240577</td>\n",
       "      <td>0.001604</td>\n",
       "      <td>44.15</td>\n",
       "      <td>Good</td>\n",
       "    </tr>\n",
       "    <tr>\n",
       "      <th>556</th>\n",
       "      <td>557</td>\n",
       "      <td>Stn. XVIII (Pagsanjan)</td>\n",
       "      <td>9</td>\n",
       "      <td>3.0</td>\n",
       "      <td>9.4</td>\n",
       "      <td>8.3</td>\n",
       "      <td>0.120</td>\n",
       "      <td>0.060</td>\n",
       "      <td>0.050</td>\n",
       "      <td>2022</td>\n",
       "      <td>0.012029</td>\n",
       "      <td>0.012029</td>\n",
       "      <td>0.009623</td>\n",
       "      <td>0.721732</td>\n",
       "      <td>0.240577</td>\n",
       "      <td>0.001604</td>\n",
       "      <td>95.40</td>\n",
       "      <td>Very Poor</td>\n",
       "    </tr>\n",
       "  </tbody>\n",
       "</table>\n",
       "<p>557 rows × 18 columns</p>\n",
       "</div>"
      ],
      "text/plain": [
       "      id                     Station  Month  BOD   DO   pH  Phosphate  \\\n",
       "0      1   Stn. I (Central West bay)      1  1.0  7.9  8.4      0.087   \n",
       "1      2          Stn. II (East Bay)      1  1.0  7.7  8.0      0.084   \n",
       "2      3       Stn. IV (Central Bay)      1  1.0  8.1  8.3      0.072   \n",
       "3      4  Stn. V ( Nothern West Bay)      1  1.0  8.5  8.1      0.181   \n",
       "4      5       Stn. VIII (South Bay)      1  1.0  7.6  8.0      0.101   \n",
       "..   ...                         ...    ...  ...  ...  ...        ...   \n",
       "552  553       Stn. VIII (South Bay)      9  5.0  9.1  6.8      0.150   \n",
       "553  554         Stn. XV (San Pedro)      9  3.0  7.6  7.9      0.230   \n",
       "554  555        Stn. XVI (Sta. Rosa)      9  3.0  7.7  8.0      0.150   \n",
       "555  556       Stn. XVII (Sanctuary)      9  4.0  9.2  8.7      0.050   \n",
       "556  557      Stn. XVIII (Pagsanjan)      9  3.0  9.4  8.3      0.120   \n",
       "\n",
       "     Ammonia  Nitrate  Year     WiBOD      WiDO      WipH  WiPhosphate  \\\n",
       "0      0.001    0.223  2017  0.012029  0.012029  0.009623     0.721732   \n",
       "1      0.001    0.343  2017  0.012029  0.012029  0.009623     0.721732   \n",
       "2      0.001    0.149  2017  0.012029  0.012029  0.009623     0.721732   \n",
       "3      0.001    0.344  2017  0.012029  0.012029  0.009623     0.721732   \n",
       "4      0.001    0.335  2017  0.012029  0.012029  0.009623     0.721732   \n",
       "..       ...      ...   ...       ...       ...       ...          ...   \n",
       "552    0.040    0.010  2022  0.012029  0.012029  0.009623     0.721732   \n",
       "553    0.100    0.120  2022  0.012029  0.012029  0.009623     0.721732   \n",
       "554    0.030    0.050  2022  0.012029  0.012029  0.009623     0.721732   \n",
       "555    0.040    0.050  2022  0.012029  0.012029  0.009623     0.721732   \n",
       "556    0.060    0.050  2022  0.012029  0.012029  0.009623     0.721732   \n",
       "\n",
       "     WiAmmonia  WiNitrate     wqi         wqc  \n",
       "0     0.240577   0.001604   66.77        Poor  \n",
       "1     0.240577   0.001604   63.85        Poor  \n",
       "2     0.240577   0.001604   55.70        Poor  \n",
       "3     0.240577   0.001604  134.12  Unsuitable  \n",
       "4     0.240577   0.001604   76.16   Very Poor  \n",
       "..         ...        ...     ...         ...  \n",
       "552   0.240577   0.001604  113.05  Unsuitable  \n",
       "553   0.240577   0.001604  177.66  Unsuitable  \n",
       "554   0.240577   0.001604  114.33  Unsuitable  \n",
       "555   0.240577   0.001604   44.15        Good  \n",
       "556   0.240577   0.001604   95.40   Very Poor  \n",
       "\n",
       "[557 rows x 18 columns]"
      ]
     },
     "execution_count": 23,
     "metadata": {},
     "output_type": "execute_result"
    }
   ],
   "source": [
    "df['wqi'] = round(sum_qiwi/sum_wi,2)\n",
    "df['wqc']=df['wqi'].apply(lambda x:('Excellent' if (25>=x>=0)  \n",
    "                                 else('Good' if  (50>=x>=26) \n",
    "                                      else('Poor' if (75>=x>=51)\n",
    "                                          else('Very Poor' if (100>=x>=76) \n",
    "                                              else 'Unsuitable')))))\n",
    "                                       \n",
    "df"
   ]
  },
  {
   "cell_type": "markdown",
   "id": "cb356364",
   "metadata": {},
   "source": [
    "Calculation of OVerall WQI for each year from 2017 to 2022"
   ]
  },
  {
   "cell_type": "code",
   "execution_count": 24,
   "id": "7e1c1903",
   "metadata": {},
   "outputs": [
    {
     "name": "stdout",
     "output_type": "stream",
     "text": [
      "Year\n",
      "2017    108.460185\n",
      "2018    102.638611\n",
      "2019     90.318981\n",
      "2020     47.134603\n",
      "2021     82.863469\n",
      "2022    144.085833\n",
      "Name: wqi, dtype: float64 Year\n",
      "2017    Unsuitable\n",
      "2018    Unsuitable\n",
      "2019     Very Poor\n",
      "2020          Good\n",
      "2021     Very Poor\n",
      "2022    Unsuitable\n",
      "Name: wqi, dtype: object\n"
     ]
    }
   ],
   "source": [
    "average = df.groupby('Year')['wqi'].mean()\n",
    "wqimean = average.apply(lambda x:('Excellent' if (25>=x>=0)  \n",
    "                                 else('Good' if  (50>=x>=26) \n",
    "                                      else('Poor' if (75>=x>=51)\n",
    "                                          else('Very Poor' if (100>=x>=76) \n",
    "                                              else 'Unsuitable')))))\n",
    "finalwqi = f'{average} {wqimean}'\n",
    "print(finalwqi)"
   ]
  },
  {
   "cell_type": "code",
   "execution_count": 25,
   "id": "9340d480",
   "metadata": {},
   "outputs": [
    {
     "name": "stdout",
     "output_type": "stream",
     "text": [
      "Year  Station                   \n",
      "2017  Stn. I (Central West bay)     138.32\n",
      "      Stn. II (East Bay)             77.74\n",
      "      Stn. IV (Central Bay)         122.44\n",
      "      Stn. V ( Nothern West Bay)    170.59\n",
      "      Stn. VIII (South Bay)          87.23\n",
      "      Stn. XV (San Pedro)           101.52\n",
      "      Stn. XVI (Sta. Rosa)          108.81\n",
      "      Stn. XVII (Sanctuary)          97.63\n",
      "      Stn. XVIII (Pagsanjan)         71.87\n",
      "2018  Stn. I (Central West bay)     121.31\n",
      "      Stn. II (East Bay)             81.77\n",
      "      Stn. IV (Central Bay)         113.64\n",
      "      Stn. V ( Nothern West Bay)    121.05\n",
      "      Stn. VIII (South Bay)         148.44\n",
      "      Stn. XV (San Pedro)            92.91\n",
      "      Stn. XVI (Sta. Rosa)           92.91\n",
      "      Stn. XVII (Sanctuary)          95.61\n",
      "      Stn. XVIII (Pagsanjan)         56.09\n",
      "2019  Stn. I (Central West bay)     119.22\n",
      "      Stn. II (East Bay)             71.09\n",
      "      Stn. IV (Central Bay)         106.24\n",
      "      Stn. V ( Nothern West Bay)    140.65\n",
      "      Stn. VIII (South Bay)          79.40\n",
      "      Stn. XV (San Pedro)            93.77\n",
      "      Stn. XVI (Sta. Rosa)           78.70\n",
      "      Stn. XVII (Sanctuary)          74.82\n",
      "      Stn. XVIII (Pagsanjan)         48.97\n",
      "2020  Stn. I (Central West bay)      51.95\n",
      "      Stn. II (East Bay)             56.88\n",
      "      Stn. IV (Central Bay)          53.45\n",
      "      Stn. V ( Nothern West Bay)     55.98\n",
      "      Stn. VIII (South Bay)          36.65\n",
      "      Stn. XV (San Pedro)            44.64\n",
      "      Stn. XVI (Sta. Rosa)           45.67\n",
      "      Stn. XVII (Sanctuary)          42.06\n",
      "      Stn. XVIII (Pagsanjan)         36.93\n",
      "2021  Stn. I (Central West bay)      87.84\n",
      "      Stn. II (East Bay)             61.21\n",
      "      Stn. IV (Central Bay)          88.34\n",
      "      Stn. V ( Nothern West Bay)     99.76\n",
      "      Stn. VIII (South Bay)         108.67\n",
      "      Stn. XV (San Pedro)            92.86\n",
      "      Stn. XVI (Sta. Rosa)           87.16\n",
      "      Stn. XVII (Sanctuary)          77.85\n",
      "      Stn. XVIII (Pagsanjan)         41.63\n",
      "2022  Stn. I (Central West bay)     206.24\n",
      "      Stn. II (East Bay)            112.93\n",
      "      Stn. IV (Central Bay)         160.01\n",
      "      Stn. V ( Nothern West Bay)    189.22\n",
      "      Stn. VIII (South Bay)         129.07\n",
      "      Stn. XV (San Pedro)           139.67\n",
      "      Stn. XVI (Sta. Rosa)          125.64\n",
      "      Stn. XVII (Sanctuary)         139.38\n",
      "      Stn. XVIII (Pagsanjan)         94.61\n",
      "Name: wqi, dtype: float64\n"
     ]
    }
   ],
   "source": [
    "xx = round(df.groupby(['Year','Station'])['wqi'].mean(),2)\n",
    "\n",
    "xxx = xx.apply(lambda x:('Excellent' if (25>=x>=0)  \n",
    "                                 else('Good' if  (50>=x>=26) \n",
    "                                      else('Poor' if (75>=x>=51)\n",
    "                                          else('Very Poor' if (100>=x>=76) \n",
    "                                              else 'Unsuitable')))))\n",
    "#x4 = f'{xx} {xxx}'\n",
    "x5 = f'{xx}'\n",
    "print(x5)"
   ]
  },
  {
   "cell_type": "code",
   "execution_count": 26,
   "id": "90293f7a",
   "metadata": {},
   "outputs": [
    {
     "name": "stderr",
     "output_type": "stream",
     "text": [
      "C:\\Users\\StockOverflow\\AppData\\Local\\Temp\\ipykernel_9360\\3953909284.py:12: MatplotlibDeprecationWarning: Axes3D(fig) adding itself to the figure is deprecated since 3.4. Pass the keyword argument auto_add_to_figure=False and use fig.add_axes(ax) to suppress this warning. The default value of auto_add_to_figure will change to False in mpl3.5 and True values will no longer work in 3.6.  This is consistent with other Axes classes.\n",
      "  ax = Axes3D(fig)\n"
     ]
    },
    {
     "data": {
      "image/png": "[encoded data removed]",
      "text/plain": [
       "<Figure size 640x480 with 2 Axes>"
      ]
     },
     "metadata": {},
     "output_type": "display_data"
    },
    {
     "data": {
      "image/png": "[encoded data removed]",
      "text/plain": [
       "<Figure size 800x600 with 1 Axes>"
      ]
     },
     "metadata": {},
     "output_type": "display_data"
    },
    {
     "data": {
      "image/png": "[encoded data removed]",
      "text/plain": [
       "<Figure size 800x600 with 1 Axes>"
      ]
     },
     "metadata": {},
     "output_type": "display_data"
    },
    {
     "data": {
      "image/png": "[encoded data removed]",
      "text/plain": [
       "<Figure size 800x600 with 1 Axes>"
      ]
     },
     "metadata": {},
     "output_type": "display_data"
    },
    {
     "data": {
      "image/png": "[encoded data removed]",
      "text/plain": [
       "<Figure size 800x600 with 1 Axes>"
      ]
     },
     "metadata": {},
     "output_type": "display_data"
    },
    {
     "data": {
      "image/png": "[encoded data removed]",
      "text/plain": [
       "<Figure size 800x600 with 1 Axes>"
      ]
     },
     "metadata": {},
     "output_type": "display_data"
    },
    {
     "data": {
      "image/png": "[encoded data removed]",
      "text/plain": [
       "<Figure size 800x600 with 1 Axes>"
      ]
     },
     "metadata": {},
     "output_type": "display_data"
    },
    {
     "data": {
      "image/png": "[encoded data removed]",
      "text/plain": [
       "<Figure size 2000x1000 with 1 Axes>"
      ]
     },
     "metadata": {},
     "output_type": "display_data"
    },
    {
     "data": {
      "text/html": [
       "<div>\n",
       "<style scoped>\n",
       "    .dataframe tbody tr th:only-of-type {\n",
       "        vertical-align: middle;\n",
       "    }\n",
       "\n",
       "    .dataframe tbody tr th {\n",
       "        vertical-align: top;\n",
       "    }\n",
       "\n",
       "    .dataframe thead th {\n",
       "        text-align: right;\n",
       "    }\n",
       "</style>\n",
       "<table border=\"1\" class=\"dataframe\">\n",
       "  <thead>\n",
       "    <tr style=\"text-align: right;\">\n",
       "      <th></th>\n",
       "      <th>id</th>\n",
       "      <th>Station</th>\n",
       "      <th>Month</th>\n",
       "      <th>BOD</th>\n",
       "      <th>DO</th>\n",
       "      <th>pH</th>\n",
       "      <th>Phosphate</th>\n",
       "      <th>Ammonia</th>\n",
       "      <th>Nitrate</th>\n",
       "      <th>Year</th>\n",
       "      <th>WiBOD</th>\n",
       "      <th>WiDO</th>\n",
       "      <th>WipH</th>\n",
       "      <th>WiPhosphate</th>\n",
       "      <th>WiAmmonia</th>\n",
       "      <th>WiNitrate</th>\n",
       "      <th>wqi</th>\n",
       "      <th>wqc</th>\n",
       "    </tr>\n",
       "  </thead>\n",
       "  <tbody>\n",
       "    <tr>\n",
       "      <th>0</th>\n",
       "      <td>1</td>\n",
       "      <td>Stn. I (Central West bay)</td>\n",
       "      <td>1</td>\n",
       "      <td>1.0</td>\n",
       "      <td>7.9</td>\n",
       "      <td>8.4</td>\n",
       "      <td>0.087</td>\n",
       "      <td>0.001</td>\n",
       "      <td>0.223</td>\n",
       "      <td>2017</td>\n",
       "      <td>0.012029</td>\n",
       "      <td>0.012029</td>\n",
       "      <td>0.009623</td>\n",
       "      <td>0.721732</td>\n",
       "      <td>0.240577</td>\n",
       "      <td>0.001604</td>\n",
       "      <td>66.77</td>\n",
       "      <td>Poor</td>\n",
       "    </tr>\n",
       "    <tr>\n",
       "      <th>1</th>\n",
       "      <td>2</td>\n",
       "      <td>Stn. II (East Bay)</td>\n",
       "      <td>1</td>\n",
       "      <td>1.0</td>\n",
       "      <td>7.7</td>\n",
       "      <td>8.0</td>\n",
       "      <td>0.084</td>\n",
       "      <td>0.001</td>\n",
       "      <td>0.343</td>\n",
       "      <td>2017</td>\n",
       "      <td>0.012029</td>\n",
       "      <td>0.012029</td>\n",
       "      <td>0.009623</td>\n",
       "      <td>0.721732</td>\n",
       "      <td>0.240577</td>\n",
       "      <td>0.001604</td>\n",
       "      <td>63.85</td>\n",
       "      <td>Poor</td>\n",
       "    </tr>\n",
       "    <tr>\n",
       "      <th>2</th>\n",
       "      <td>3</td>\n",
       "      <td>Stn. IV (Central Bay)</td>\n",
       "      <td>1</td>\n",
       "      <td>1.0</td>\n",
       "      <td>8.1</td>\n",
       "      <td>8.3</td>\n",
       "      <td>0.072</td>\n",
       "      <td>0.001</td>\n",
       "      <td>0.149</td>\n",
       "      <td>2017</td>\n",
       "      <td>0.012029</td>\n",
       "      <td>0.012029</td>\n",
       "      <td>0.009623</td>\n",
       "      <td>0.721732</td>\n",
       "      <td>0.240577</td>\n",
       "      <td>0.001604</td>\n",
       "      <td>55.70</td>\n",
       "      <td>Poor</td>\n",
       "    </tr>\n",
       "    <tr>\n",
       "      <th>3</th>\n",
       "      <td>4</td>\n",
       "      <td>Stn. V ( Nothern West Bay)</td>\n",
       "      <td>1</td>\n",
       "      <td>1.0</td>\n",
       "      <td>8.5</td>\n",
       "      <td>8.1</td>\n",
       "      <td>0.181</td>\n",
       "      <td>0.001</td>\n",
       "      <td>0.344</td>\n",
       "      <td>2017</td>\n",
       "      <td>0.012029</td>\n",
       "      <td>0.012029</td>\n",
       "      <td>0.009623</td>\n",
       "      <td>0.721732</td>\n",
       "      <td>0.240577</td>\n",
       "      <td>0.001604</td>\n",
       "      <td>134.12</td>\n",
       "      <td>Unsuitable</td>\n",
       "    </tr>\n",
       "    <tr>\n",
       "      <th>4</th>\n",
       "      <td>5</td>\n",
       "      <td>Stn. VIII (South Bay)</td>\n",
       "      <td>1</td>\n",
       "      <td>1.0</td>\n",
       "      <td>7.6</td>\n",
       "      <td>8.0</td>\n",
       "      <td>0.101</td>\n",
       "      <td>0.001</td>\n",
       "      <td>0.335</td>\n",
       "      <td>2017</td>\n",
       "      <td>0.012029</td>\n",
       "      <td>0.012029</td>\n",
       "      <td>0.009623</td>\n",
       "      <td>0.721732</td>\n",
       "      <td>0.240577</td>\n",
       "      <td>0.001604</td>\n",
       "      <td>76.16</td>\n",
       "      <td>Very Poor</td>\n",
       "    </tr>\n",
       "    <tr>\n",
       "      <th>...</th>\n",
       "      <td>...</td>\n",
       "      <td>...</td>\n",
       "      <td>...</td>\n",
       "      <td>...</td>\n",
       "      <td>...</td>\n",
       "      <td>...</td>\n",
       "      <td>...</td>\n",
       "      <td>...</td>\n",
       "      <td>...</td>\n",
       "      <td>...</td>\n",
       "      <td>...</td>\n",
       "      <td>...</td>\n",
       "      <td>...</td>\n",
       "      <td>...</td>\n",
       "      <td>...</td>\n",
       "      <td>...</td>\n",
       "      <td>...</td>\n",
       "      <td>...</td>\n",
       "    </tr>\n",
       "    <tr>\n",
       "      <th>552</th>\n",
       "      <td>553</td>\n",
       "      <td>Stn. VIII (South Bay)</td>\n",
       "      <td>9</td>\n",
       "      <td>5.0</td>\n",
       "      <td>9.1</td>\n",
       "      <td>6.8</td>\n",
       "      <td>0.150</td>\n",
       "      <td>0.040</td>\n",
       "      <td>0.010</td>\n",
       "      <td>2022</td>\n",
       "      <td>0.012029</td>\n",
       "      <td>0.012029</td>\n",
       "      <td>0.009623</td>\n",
       "      <td>0.721732</td>\n",
       "      <td>0.240577</td>\n",
       "      <td>0.001604</td>\n",
       "      <td>113.05</td>\n",
       "      <td>Unsuitable</td>\n",
       "    </tr>\n",
       "    <tr>\n",
       "      <th>553</th>\n",
       "      <td>554</td>\n",
       "      <td>Stn. XV (San Pedro)</td>\n",
       "      <td>9</td>\n",
       "      <td>3.0</td>\n",
       "      <td>7.6</td>\n",
       "      <td>7.9</td>\n",
       "      <td>0.230</td>\n",
       "      <td>0.100</td>\n",
       "      <td>0.120</td>\n",
       "      <td>2022</td>\n",
       "      <td>0.012029</td>\n",
       "      <td>0.012029</td>\n",
       "      <td>0.009623</td>\n",
       "      <td>0.721732</td>\n",
       "      <td>0.240577</td>\n",
       "      <td>0.001604</td>\n",
       "      <td>177.66</td>\n",
       "      <td>Unsuitable</td>\n",
       "    </tr>\n",
       "    <tr>\n",
       "      <th>554</th>\n",
       "      <td>555</td>\n",
       "      <td>Stn. XVI (Sta. Rosa)</td>\n",
       "      <td>9</td>\n",
       "      <td>3.0</td>\n",
       "      <td>7.7</td>\n",
       "      <td>8.0</td>\n",
       "      <td>0.150</td>\n",
       "      <td>0.030</td>\n",
       "      <td>0.050</td>\n",
       "      <td>2022</td>\n",
       "      <td>0.012029</td>\n",
       "      <td>0.012029</td>\n",
       "      <td>0.009623</td>\n",
       "      <td>0.721732</td>\n",
       "      <td>0.240577</td>\n",
       "      <td>0.001604</td>\n",
       "      <td>114.33</td>\n",
       "      <td>Unsuitable</td>\n",
       "    </tr>\n",
       "    <tr>\n",
       "      <th>555</th>\n",
       "      <td>556</td>\n",
       "      <td>Stn. XVII (Sanctuary)</td>\n",
       "      <td>9</td>\n",
       "      <td>4.0</td>\n",
       "      <td>9.2</td>\n",
       "      <td>8.7</td>\n",
       "      <td>0.050</td>\n",
       "      <td>0.040</td>\n",
       "      <td>0.050</td>\n",
       "      <td>2022</td>\n",
       "      <td>0.012029</td>\n",
       "      <td>0.012029</td>\n",
       "      <td>0.009623</td>\n",
       "      <td>0.721732</td>\n",
       "      <td>0.240577</td>\n",
       "      <td>0.001604</td>\n",
       "      <td>44.15</td>\n",
       "      <td>Good</td>\n",
       "    </tr>\n",
       "    <tr>\n",
       "      <th>556</th>\n",
       "      <td>557</td>\n",
       "      <td>Stn. XVIII (Pagsanjan)</td>\n",
       "      <td>9</td>\n",
       "      <td>3.0</td>\n",
       "      <td>9.4</td>\n",
       "      <td>8.3</td>\n",
       "      <td>0.120</td>\n",
       "      <td>0.060</td>\n",
       "      <td>0.050</td>\n",
       "      <td>2022</td>\n",
       "      <td>0.012029</td>\n",
       "      <td>0.012029</td>\n",
       "      <td>0.009623</td>\n",
       "      <td>0.721732</td>\n",
       "      <td>0.240577</td>\n",
       "      <td>0.001604</td>\n",
       "      <td>95.40</td>\n",
       "      <td>Very Poor</td>\n",
       "    </tr>\n",
       "  </tbody>\n",
       "</table>\n",
       "<p>557 rows × 18 columns</p>\n",
       "</div>"
      ],
      "text/plain": [
       "      id                     Station  Month  BOD   DO   pH  Phosphate  \\\n",
       "0      1   Stn. I (Central West bay)      1  1.0  7.9  8.4      0.087   \n",
       "1      2          Stn. II (East Bay)      1  1.0  7.7  8.0      0.084   \n",
       "2      3       Stn. IV (Central Bay)      1  1.0  8.1  8.3      0.072   \n",
       "3      4  Stn. V ( Nothern West Bay)      1  1.0  8.5  8.1      0.181   \n",
       "4      5       Stn. VIII (South Bay)      1  1.0  7.6  8.0      0.101   \n",
       "..   ...                         ...    ...  ...  ...  ...        ...   \n",
       "552  553       Stn. VIII (South Bay)      9  5.0  9.1  6.8      0.150   \n",
       "553  554         Stn. XV (San Pedro)      9  3.0  7.6  7.9      0.230   \n",
       "554  555        Stn. XVI (Sta. Rosa)      9  3.0  7.7  8.0      0.150   \n",
       "555  556       Stn. XVII (Sanctuary)      9  4.0  9.2  8.7      0.050   \n",
       "556  557      Stn. XVIII (Pagsanjan)      9  3.0  9.4  8.3      0.120   \n",
       "\n",
       "     Ammonia  Nitrate  Year     WiBOD      WiDO      WipH  WiPhosphate  \\\n",
       "0      0.001    0.223  2017  0.012029  0.012029  0.009623     0.721732   \n",
       "1      0.001    0.343  2017  0.012029  0.012029  0.009623     0.721732   \n",
       "2      0.001    0.149  2017  0.012029  0.012029  0.009623     0.721732   \n",
       "3      0.001    0.344  2017  0.012029  0.012029  0.009623     0.721732   \n",
       "4      0.001    0.335  2017  0.012029  0.012029  0.009623     0.721732   \n",
       "..       ...      ...   ...       ...       ...       ...          ...   \n",
       "552    0.040    0.010  2022  0.012029  0.012029  0.009623     0.721732   \n",
       "553    0.100    0.120  2022  0.012029  0.012029  0.009623     0.721732   \n",
       "554    0.030    0.050  2022  0.012029  0.012029  0.009623     0.721732   \n",
       "555    0.040    0.050  2022  0.012029  0.012029  0.009623     0.721732   \n",
       "556    0.060    0.050  2022  0.012029  0.012029  0.009623     0.721732   \n",
       "\n",
       "     WiAmmonia  WiNitrate     wqi         wqc  \n",
       "0     0.240577   0.001604   66.77        Poor  \n",
       "1     0.240577   0.001604   63.85        Poor  \n",
       "2     0.240577   0.001604   55.70        Poor  \n",
       "3     0.240577   0.001604  134.12  Unsuitable  \n",
       "4     0.240577   0.001604   76.16   Very Poor  \n",
       "..         ...        ...     ...         ...  \n",
       "552   0.240577   0.001604  113.05  Unsuitable  \n",
       "553   0.240577   0.001604  177.66  Unsuitable  \n",
       "554   0.240577   0.001604  114.33  Unsuitable  \n",
       "555   0.240577   0.001604   44.15        Good  \n",
       "556   0.240577   0.001604   95.40   Very Poor  \n",
       "\n",
       "[557 rows x 18 columns]"
      ]
     },
     "execution_count": 26,
     "metadata": {},
     "output_type": "execute_result"
    }
   ],
   "source": [
    "#visualizing the filttered data\n",
    "\n",
    "year=df['Year'].values\n",
    "AQI=df['wqi'].values\n",
    "df['wqi']=pd.to_numeric(df['wqi'],errors='coerce')\n",
    "df['Year']=pd.to_numeric(df['Year'],errors='coerce')\n",
    "\n",
    "import matplotlib.pyplot as plt\n",
    "plt.rcParams['figure.figsize'] = (20.0, 10.0)\n",
    "from mpl_toolkits.mplot3d import Axes3D\n",
    "fig = plt.figure()\n",
    "ax = Axes3D(fig)\n",
    "ax.scatter(year,AQI, color='maroon')\n",
    "plt.show()\n",
    "df"
   ]
  },
  {
   "cell_type": "code",
   "execution_count": 27,
   "id": "2cbe300f",
   "metadata": {},
   "outputs": [
    {
     "name": "stderr",
     "output_type": "stream",
     "text": [
      "C:\\Users\\StockOverflow\\anaconda3\\lib\\site-packages\\seaborn\\_decorators.py:36: FutureWarning: Pass the following variable as a keyword arg: x. From version 0.12, the only valid positional argument will be `data`, and passing other arguments without an explicit keyword will result in an error or misinterpretation.\n",
      "  warnings.warn(\n"
     ]
    },
    {
     "data": {
      "text/plain": [
       "<AxesSubplot:xlabel='Year', ylabel='count'>"
      ]
     },
     "execution_count": 27,
     "metadata": {},
     "output_type": "execute_result"
    }
   ],
   "source": [
    "plt.figure(figsize = (20,4))\n",
    "plt.subplot(1,5,1)\n",
    "#sns.countplot('Year', hue='wqc', data=df)\n",
    "sns.countplot('Year', hue='wqc', data=df)"
   ]
  },
  {
   "cell_type": "code",
   "execution_count": 28,
   "id": "964ffcdb",
   "metadata": {},
   "outputs": [
    {
     "data": {
      "text/html": [
       "<div>\n",
       "<style scoped>\n",
       "    .dataframe tbody tr th:only-of-type {\n",
       "        vertical-align: middle;\n",
       "    }\n",
       "\n",
       "    .dataframe tbody tr th {\n",
       "        vertical-align: top;\n",
       "    }\n",
       "\n",
       "    .dataframe thead th {\n",
       "        text-align: right;\n",
       "    }\n",
       "</style>\n",
       "<table border=\"1\" class=\"dataframe\">\n",
       "  <thead>\n",
       "    <tr style=\"text-align: right;\">\n",
       "      <th></th>\n",
       "      <th>id</th>\n",
       "      <th>Station</th>\n",
       "      <th>Month</th>\n",
       "      <th>BOD</th>\n",
       "      <th>DO</th>\n",
       "      <th>pH</th>\n",
       "      <th>Phosphate</th>\n",
       "      <th>Ammonia</th>\n",
       "      <th>Nitrate</th>\n",
       "      <th>Year</th>\n",
       "      <th>WiBOD</th>\n",
       "      <th>WiDO</th>\n",
       "      <th>WipH</th>\n",
       "      <th>WiPhosphate</th>\n",
       "      <th>WiAmmonia</th>\n",
       "      <th>WiNitrate</th>\n",
       "      <th>wqi</th>\n",
       "      <th>wqc</th>\n",
       "    </tr>\n",
       "  </thead>\n",
       "  <tbody>\n",
       "    <tr>\n",
       "      <th>0</th>\n",
       "      <td>1</td>\n",
       "      <td>Stn. I (Central West bay)</td>\n",
       "      <td>1</td>\n",
       "      <td>1.0</td>\n",
       "      <td>7.9</td>\n",
       "      <td>8.4</td>\n",
       "      <td>0.087</td>\n",
       "      <td>0.001</td>\n",
       "      <td>0.223</td>\n",
       "      <td>2017</td>\n",
       "      <td>0.012029</td>\n",
       "      <td>0.012029</td>\n",
       "      <td>0.009623</td>\n",
       "      <td>0.721732</td>\n",
       "      <td>0.240577</td>\n",
       "      <td>0.001604</td>\n",
       "      <td>66.77</td>\n",
       "      <td>Poor</td>\n",
       "    </tr>\n",
       "    <tr>\n",
       "      <th>1</th>\n",
       "      <td>2</td>\n",
       "      <td>Stn. II (East Bay)</td>\n",
       "      <td>1</td>\n",
       "      <td>1.0</td>\n",
       "      <td>7.7</td>\n",
       "      <td>8.0</td>\n",
       "      <td>0.084</td>\n",
       "      <td>0.001</td>\n",
       "      <td>0.343</td>\n",
       "      <td>2017</td>\n",
       "      <td>0.012029</td>\n",
       "      <td>0.012029</td>\n",
       "      <td>0.009623</td>\n",
       "      <td>0.721732</td>\n",
       "      <td>0.240577</td>\n",
       "      <td>0.001604</td>\n",
       "      <td>63.85</td>\n",
       "      <td>Poor</td>\n",
       "    </tr>\n",
       "    <tr>\n",
       "      <th>2</th>\n",
       "      <td>3</td>\n",
       "      <td>Stn. IV (Central Bay)</td>\n",
       "      <td>1</td>\n",
       "      <td>1.0</td>\n",
       "      <td>8.1</td>\n",
       "      <td>8.3</td>\n",
       "      <td>0.072</td>\n",
       "      <td>0.001</td>\n",
       "      <td>0.149</td>\n",
       "      <td>2017</td>\n",
       "      <td>0.012029</td>\n",
       "      <td>0.012029</td>\n",
       "      <td>0.009623</td>\n",
       "      <td>0.721732</td>\n",
       "      <td>0.240577</td>\n",
       "      <td>0.001604</td>\n",
       "      <td>55.70</td>\n",
       "      <td>Poor</td>\n",
       "    </tr>\n",
       "    <tr>\n",
       "      <th>3</th>\n",
       "      <td>4</td>\n",
       "      <td>Stn. V ( Nothern West Bay)</td>\n",
       "      <td>1</td>\n",
       "      <td>1.0</td>\n",
       "      <td>8.5</td>\n",
       "      <td>8.1</td>\n",
       "      <td>0.181</td>\n",
       "      <td>0.001</td>\n",
       "      <td>0.344</td>\n",
       "      <td>2017</td>\n",
       "      <td>0.012029</td>\n",
       "      <td>0.012029</td>\n",
       "      <td>0.009623</td>\n",
       "      <td>0.721732</td>\n",
       "      <td>0.240577</td>\n",
       "      <td>0.001604</td>\n",
       "      <td>134.12</td>\n",
       "      <td>Unsuitable</td>\n",
       "    </tr>\n",
       "    <tr>\n",
       "      <th>4</th>\n",
       "      <td>5</td>\n",
       "      <td>Stn. VIII (South Bay)</td>\n",
       "      <td>1</td>\n",
       "      <td>1.0</td>\n",
       "      <td>7.6</td>\n",
       "      <td>8.0</td>\n",
       "      <td>0.101</td>\n",
       "      <td>0.001</td>\n",
       "      <td>0.335</td>\n",
       "      <td>2017</td>\n",
       "      <td>0.012029</td>\n",
       "      <td>0.012029</td>\n",
       "      <td>0.009623</td>\n",
       "      <td>0.721732</td>\n",
       "      <td>0.240577</td>\n",
       "      <td>0.001604</td>\n",
       "      <td>76.16</td>\n",
       "      <td>Very Poor</td>\n",
       "    </tr>\n",
       "  </tbody>\n",
       "</table>\n",
       "</div>"
      ],
      "text/plain": [
       "   id                     Station  Month  BOD   DO   pH  Phosphate  Ammonia  \\\n",
       "0   1   Stn. I (Central West bay)      1  1.0  7.9  8.4      0.087    0.001   \n",
       "1   2          Stn. II (East Bay)      1  1.0  7.7  8.0      0.084    0.001   \n",
       "2   3       Stn. IV (Central Bay)      1  1.0  8.1  8.3      0.072    0.001   \n",
       "3   4  Stn. V ( Nothern West Bay)      1  1.0  8.5  8.1      0.181    0.001   \n",
       "4   5       Stn. VIII (South Bay)      1  1.0  7.6  8.0      0.101    0.001   \n",
       "\n",
       "   Nitrate  Year     WiBOD      WiDO      WipH  WiPhosphate  WiAmmonia  \\\n",
       "0    0.223  2017  0.012029  0.012029  0.009623     0.721732   0.240577   \n",
       "1    0.343  2017  0.012029  0.012029  0.009623     0.721732   0.240577   \n",
       "2    0.149  2017  0.012029  0.012029  0.009623     0.721732   0.240577   \n",
       "3    0.344  2017  0.012029  0.012029  0.009623     0.721732   0.240577   \n",
       "4    0.335  2017  0.012029  0.012029  0.009623     0.721732   0.240577   \n",
       "\n",
       "   WiNitrate     wqi         wqc  \n",
       "0   0.001604   66.77        Poor  \n",
       "1   0.001604   63.85        Poor  \n",
       "2   0.001604   55.70        Poor  \n",
       "3   0.001604  134.12  Unsuitable  \n",
       "4   0.001604   76.16   Very Poor  "
      ]
     },
     "execution_count": 28,
     "metadata": {},
     "output_type": "execute_result"
    }
   ],
   "source": [
    "df = df[np.isfinite(df['wqi'])]\n",
    "df.head()"
   ]
  },
  {
   "cell_type": "code",
   "execution_count": 29,
   "id": "ced4e7df",
   "metadata": {},
   "outputs": [
    {
     "data": {
      "image/png": "[encoded data removed]",
      "text/plain": [
       "<Figure size 2000x400 with 1 Axes>"
      ]
     },
     "metadata": {},
     "output_type": "display_data"
    }
   ],
   "source": [
    "#scatter plot of data points\n",
    "cols =['Year']\n",
    "y = df['wqi']\n",
    "x=df[cols]\n",
    "\n",
    "plt.scatter(x,y)\n",
    "plt.show()"
   ]
  },
  {
   "cell_type": "code",
   "execution_count": null,
   "id": "d335785a",
   "metadata": {},
   "outputs": [],
   "source": []
  },
  {
   "cell_type": "code",
   "execution_count": 30,
   "id": "2f2d143b",
   "metadata": {},
   "outputs": [
    {
     "data": {
      "text/html": [
       "<div>\n",
       "<style scoped>\n",
       "    .dataframe tbody tr th:only-of-type {\n",
       "        vertical-align: middle;\n",
       "    }\n",
       "\n",
       "    .dataframe tbody tr th {\n",
       "        vertical-align: top;\n",
       "    }\n",
       "\n",
       "    .dataframe thead th {\n",
       "        text-align: right;\n",
       "    }\n",
       "</style>\n",
       "<table border=\"1\" class=\"dataframe\">\n",
       "  <thead>\n",
       "    <tr style=\"text-align: right;\">\n",
       "      <th></th>\n",
       "      <th>BOD</th>\n",
       "      <th>DO</th>\n",
       "      <th>pH</th>\n",
       "      <th>Phosphate</th>\n",
       "      <th>Ammonia</th>\n",
       "      <th>Nitrate</th>\n",
       "      <th>Year</th>\n",
       "      <th>WiBOD</th>\n",
       "      <th>WiDO</th>\n",
       "      <th>WipH</th>\n",
       "      <th>WiPhosphate</th>\n",
       "      <th>WiAmmonia</th>\n",
       "      <th>WiNitrate</th>\n",
       "      <th>wqi</th>\n",
       "      <th>wqc</th>\n",
       "    </tr>\n",
       "  </thead>\n",
       "  <tbody>\n",
       "    <tr>\n",
       "      <th>0</th>\n",
       "      <td>1.0</td>\n",
       "      <td>7.9</td>\n",
       "      <td>8.4</td>\n",
       "      <td>0.087</td>\n",
       "      <td>0.001</td>\n",
       "      <td>0.223</td>\n",
       "      <td>2017</td>\n",
       "      <td>0.012029</td>\n",
       "      <td>0.012029</td>\n",
       "      <td>0.009623</td>\n",
       "      <td>0.721732</td>\n",
       "      <td>0.240577</td>\n",
       "      <td>0.001604</td>\n",
       "      <td>66.77</td>\n",
       "      <td>Poor</td>\n",
       "    </tr>\n",
       "    <tr>\n",
       "      <th>1</th>\n",
       "      <td>1.0</td>\n",
       "      <td>7.7</td>\n",
       "      <td>8.0</td>\n",
       "      <td>0.084</td>\n",
       "      <td>0.001</td>\n",
       "      <td>0.343</td>\n",
       "      <td>2017</td>\n",
       "      <td>0.012029</td>\n",
       "      <td>0.012029</td>\n",
       "      <td>0.009623</td>\n",
       "      <td>0.721732</td>\n",
       "      <td>0.240577</td>\n",
       "      <td>0.001604</td>\n",
       "      <td>63.85</td>\n",
       "      <td>Poor</td>\n",
       "    </tr>\n",
       "    <tr>\n",
       "      <th>2</th>\n",
       "      <td>1.0</td>\n",
       "      <td>8.1</td>\n",
       "      <td>8.3</td>\n",
       "      <td>0.072</td>\n",
       "      <td>0.001</td>\n",
       "      <td>0.149</td>\n",
       "      <td>2017</td>\n",
       "      <td>0.012029</td>\n",
       "      <td>0.012029</td>\n",
       "      <td>0.009623</td>\n",
       "      <td>0.721732</td>\n",
       "      <td>0.240577</td>\n",
       "      <td>0.001604</td>\n",
       "      <td>55.70</td>\n",
       "      <td>Poor</td>\n",
       "    </tr>\n",
       "    <tr>\n",
       "      <th>3</th>\n",
       "      <td>1.0</td>\n",
       "      <td>8.5</td>\n",
       "      <td>8.1</td>\n",
       "      <td>0.181</td>\n",
       "      <td>0.001</td>\n",
       "      <td>0.344</td>\n",
       "      <td>2017</td>\n",
       "      <td>0.012029</td>\n",
       "      <td>0.012029</td>\n",
       "      <td>0.009623</td>\n",
       "      <td>0.721732</td>\n",
       "      <td>0.240577</td>\n",
       "      <td>0.001604</td>\n",
       "      <td>134.12</td>\n",
       "      <td>Unsuitable</td>\n",
       "    </tr>\n",
       "    <tr>\n",
       "      <th>4</th>\n",
       "      <td>1.0</td>\n",
       "      <td>7.6</td>\n",
       "      <td>8.0</td>\n",
       "      <td>0.101</td>\n",
       "      <td>0.001</td>\n",
       "      <td>0.335</td>\n",
       "      <td>2017</td>\n",
       "      <td>0.012029</td>\n",
       "      <td>0.012029</td>\n",
       "      <td>0.009623</td>\n",
       "      <td>0.721732</td>\n",
       "      <td>0.240577</td>\n",
       "      <td>0.001604</td>\n",
       "      <td>76.16</td>\n",
       "      <td>Very Poor</td>\n",
       "    </tr>\n",
       "  </tbody>\n",
       "</table>\n",
       "</div>"
      ],
      "text/plain": [
       "   BOD   DO   pH  Phosphate  Ammonia  Nitrate  Year     WiBOD      WiDO  \\\n",
       "0  1.0  7.9  8.4      0.087    0.001    0.223  2017  0.012029  0.012029   \n",
       "1  1.0  7.7  8.0      0.084    0.001    0.343  2017  0.012029  0.012029   \n",
       "2  1.0  8.1  8.3      0.072    0.001    0.149  2017  0.012029  0.012029   \n",
       "3  1.0  8.5  8.1      0.181    0.001    0.344  2017  0.012029  0.012029   \n",
       "4  1.0  7.6  8.0      0.101    0.001    0.335  2017  0.012029  0.012029   \n",
       "\n",
       "       WipH  WiPhosphate  WiAmmonia  WiNitrate     wqi         wqc  \n",
       "0  0.009623     0.721732   0.240577   0.001604   66.77        Poor  \n",
       "1  0.009623     0.721732   0.240577   0.001604   63.85        Poor  \n",
       "2  0.009623     0.721732   0.240577   0.001604   55.70        Poor  \n",
       "3  0.009623     0.721732   0.240577   0.001604  134.12  Unsuitable  \n",
       "4  0.009623     0.721732   0.240577   0.001604   76.16   Very Poor  "
      ]
     },
     "execution_count": 30,
     "metadata": {},
     "output_type": "execute_result"
    }
   ],
   "source": [
    "df.drop(['id','Station','Month'], axis=1, inplace=True)\n",
    "df.head()"
   ]
  },
  {
   "cell_type": "code",
   "execution_count": 31,
   "id": "252f5a1d",
   "metadata": {},
   "outputs": [],
   "source": [
    "X = df.iloc[:,0:6].values #BOD to Nitrate col"
   ]
  },
  {
   "cell_type": "code",
   "execution_count": 32,
   "id": "66a43b67",
   "metadata": {},
   "outputs": [
    {
     "data": {
      "text/plain": [
       "(557, 6)"
      ]
     },
     "execution_count": 32,
     "metadata": {},
     "output_type": "execute_result"
    }
   ],
   "source": [
    "X.shape"
   ]
  },
  {
   "cell_type": "code",
   "execution_count": 33,
   "id": "37e091bc",
   "metadata": {},
   "outputs": [],
   "source": [
    "y = df.iloc[:,-1:].values\n",
    "#y1 = df['remarks'].values\n",
    "#y = df['wqc']"
   ]
  },
  {
   "cell_type": "code",
   "execution_count": 34,
   "id": "de9fa70c",
   "metadata": {},
   "outputs": [
    {
     "name": "stdout",
     "output_type": "stream",
     "text": [
      "[[1.00e+00 7.90e+00 8.40e+00 8.70e-02 1.00e-03 2.23e-01]\n",
      " [1.00e+00 7.70e+00 8.00e+00 8.40e-02 1.00e-03 3.43e-01]\n",
      " [1.00e+00 8.10e+00 8.30e+00 7.20e-02 1.00e-03 1.49e-01]\n",
      " ...\n",
      " [3.00e+00 7.70e+00 8.00e+00 1.50e-01 3.00e-02 5.00e-02]\n",
      " [4.00e+00 9.20e+00 8.70e+00 5.00e-02 4.00e-02 5.00e-02]\n",
      " [3.00e+00 9.40e+00 8.30e+00 1.20e-01 6.00e-02 5.00e-02]]\n"
     ]
    }
   ],
   "source": [
    "print(X)"
   ]
  },
  {
   "cell_type": "code",
   "execution_count": 35,
   "id": "41eedc7f",
   "metadata": {},
   "outputs": [
    {
     "data": {
      "text/plain": [
       "(557, 1)"
      ]
     },
     "execution_count": 35,
     "metadata": {},
     "output_type": "execute_result"
    }
   ],
   "source": [
    "y.shape"
   ]
  },
  {
   "cell_type": "code",
   "execution_count": 36,
   "id": "8b562946",
   "metadata": {},
   "outputs": [
    {
     "name": "stdout",
     "output_type": "stream",
     "text": [
      "[['Poor']\n",
      " ['Poor']\n",
      " ['Poor']\n",
      " ['Unsuitable']\n",
      " ['Very Poor']\n",
      " ['Very Poor']\n",
      " ['Poor']\n",
      " ['Good']\n",
      " ['Unsuitable']\n",
      " ['Unsuitable']\n",
      " ['Unsuitable']\n",
      " ['Unsuitable']\n",
      " ['Unsuitable']\n",
      " ['Very Poor']\n",
      " ['Unsuitable']\n",
      " ['Unsuitable']\n",
      " ['Unsuitable']\n",
      " ['Unsuitable']\n",
      " ['Poor']\n",
      " ['Good']\n",
      " ['Poor']\n",
      " ['Very Poor']\n",
      " ['Poor']\n",
      " ['Poor']\n",
      " ['Poor']\n",
      " ['Poor']\n",
      " ['Good']\n",
      " ['Unsuitable']\n",
      " ['Unsuitable']\n",
      " ['Unsuitable']\n",
      " ['Unsuitable']\n",
      " ['Unsuitable']\n",
      " ['Unsuitable']\n",
      " ['Unsuitable']\n",
      " ['Unsuitable']\n",
      " ['Unsuitable']\n",
      " ['Unsuitable']\n",
      " ['Good']\n",
      " ['Poor']\n",
      " ['Unsuitable']\n",
      " ['Very Poor']\n",
      " ['Excellent']\n",
      " ['Poor']\n",
      " ['Very Poor']\n",
      " ['Poor']\n",
      " ['Unsuitable']\n",
      " ['Unsuitable']\n",
      " ['Unsuitable']\n",
      " ['Unsuitable']\n",
      " ['Poor']\n",
      " ['Unsuitable']\n",
      " ['Unsuitable']\n",
      " ['Very Poor']\n",
      " ['Unsuitable']\n",
      " ['Very Poor']\n",
      " ['Unsuitable']\n",
      " ['Unsuitable']\n",
      " ['Unsuitable']\n",
      " ['Good']\n",
      " ['Very Poor']\n",
      " ['Very Poor']\n",
      " ['Unsuitable']\n",
      " ['Unsuitable']\n",
      " ['Poor']\n",
      " ['Very Poor']\n",
      " ['Very Poor']\n",
      " ['Poor']\n",
      " ['Very Poor']\n",
      " ['Very Poor']\n",
      " ['Poor']\n",
      " ['Very Poor']\n",
      " ['Good']\n",
      " ['Unsuitable']\n",
      " ['Very Poor']\n",
      " ['Very Poor']\n",
      " ['Unsuitable']\n",
      " ['Unsuitable']\n",
      " ['Unsuitable']\n",
      " ['Unsuitable']\n",
      " ['Unsuitable']\n",
      " ['Good']\n",
      " ['Very Poor']\n",
      " ['Excellent']\n",
      " ['Unsuitable']\n",
      " ['Unsuitable']\n",
      " ['Poor']\n",
      " ['Unsuitable']\n",
      " ['Unsuitable']\n",
      " ['Unsuitable']\n",
      " ['Good']\n",
      " ['Unsuitable']\n",
      " ['Good']\n",
      " ['Unsuitable']\n",
      " ['Unsuitable']\n",
      " ['Very Poor']\n",
      " ['Very Poor']\n",
      " ['Poor']\n",
      " ['Very Poor']\n",
      " ['Excellent']\n",
      " ['Unsuitable']\n",
      " ['Excellent']\n",
      " ['Unsuitable']\n",
      " ['Very Poor']\n",
      " ['Very Poor']\n",
      " ['Poor']\n",
      " ['Very Poor']\n",
      " ['Very Poor']\n",
      " ['Excellent']\n",
      " ['Unsuitable']\n",
      " ['Unsuitable']\n",
      " ['Unsuitable']\n",
      " ['Unsuitable']\n",
      " ['Unsuitable']\n",
      " ['Unsuitable']\n",
      " ['Unsuitable']\n",
      " ['Very Poor']\n",
      " ['Unsuitable']\n",
      " ['Unsuitable']\n",
      " ['Unsuitable']\n",
      " ['Unsuitable']\n",
      " ['Unsuitable']\n",
      " ['Unsuitable']\n",
      " ['Unsuitable']\n",
      " ['Unsuitable']\n",
      " ['Unsuitable']\n",
      " ['Very Poor']\n",
      " ['Unsuitable']\n",
      " ['Unsuitable']\n",
      " ['Unsuitable']\n",
      " ['Unsuitable']\n",
      " ['Unsuitable']\n",
      " ['Unsuitable']\n",
      " ['Very Poor']\n",
      " ['Unsuitable']\n",
      " ['Unsuitable']\n",
      " ['Unsuitable']\n",
      " ['Very Poor']\n",
      " ['Unsuitable']\n",
      " ['Unsuitable']\n",
      " ['Unsuitable']\n",
      " ['Unsuitable']\n",
      " ['Unsuitable']\n",
      " ['Unsuitable']\n",
      " ['Very Poor']\n",
      " ['Unsuitable']\n",
      " ['Very Poor']\n",
      " ['Unsuitable']\n",
      " ['Unsuitable']\n",
      " ['Very Poor']\n",
      " ['Unsuitable']\n",
      " ['Very Poor']\n",
      " ['Very Poor']\n",
      " ['Poor']\n",
      " ['Unsuitable']\n",
      " ['Poor']\n",
      " ['Unsuitable']\n",
      " ['Unsuitable']\n",
      " ['Very Poor']\n",
      " ['Unsuitable']\n",
      " ['Unsuitable']\n",
      " ['Unsuitable']\n",
      " ['Poor']\n",
      " ['Very Poor']\n",
      " ['Poor']\n",
      " ['Very Poor']\n",
      " ['Very Poor']\n",
      " ['Unsuitable']\n",
      " ['Poor']\n",
      " ['Poor']\n",
      " ['Poor']\n",
      " ['Good']\n",
      " ['Unsuitable']\n",
      " ['Very Poor']\n",
      " ['Unsuitable']\n",
      " ['Unsuitable']\n",
      " ['Unsuitable']\n",
      " ['Unsuitable']\n",
      " ['Unsuitable']\n",
      " ['Unsuitable']\n",
      " ['Good']\n",
      " ['Unsuitable']\n",
      " ['Poor']\n",
      " ['Unsuitable']\n",
      " ['Poor']\n",
      " ['Very Poor']\n",
      " ['Poor']\n",
      " ['Poor']\n",
      " ['Poor']\n",
      " ['Excellent']\n",
      " ['Very Poor']\n",
      " ['Very Poor']\n",
      " ['Unsuitable']\n",
      " ['Very Poor']\n",
      " ['Unsuitable']\n",
      " ['Poor']\n",
      " ['Very Poor']\n",
      " ['Unsuitable']\n",
      " ['Excellent']\n",
      " ['Poor']\n",
      " ['Poor']\n",
      " ['Poor']\n",
      " ['Good']\n",
      " ['Very Poor']\n",
      " ['Poor']\n",
      " ['Poor']\n",
      " ['Good']\n",
      " ['Excellent']\n",
      " ['Very Poor']\n",
      " ['Poor']\n",
      " ['Poor']\n",
      " ['Unsuitable']\n",
      " ['Unsuitable']\n",
      " ['Very Poor']\n",
      " ['Poor']\n",
      " ['Poor']\n",
      " ['Good']\n",
      " ['Very Poor']\n",
      " ['Very Poor']\n",
      " ['Very Poor']\n",
      " ['Poor']\n",
      " ['Unsuitable']\n",
      " ['Poor']\n",
      " ['Unsuitable']\n",
      " ['Good']\n",
      " ['Very Poor']\n",
      " ['Poor']\n",
      " ['Poor']\n",
      " ['Good']\n",
      " ['Unsuitable']\n",
      " ['Excellent']\n",
      " ['Poor']\n",
      " ['Good']\n",
      " ['Good']\n",
      " ['Good']\n",
      " ['Very Poor']\n",
      " ['Good']\n",
      " ['Unsuitable']\n",
      " ['Very Poor']\n",
      " ['Good']\n",
      " ['Good']\n",
      " ['Good']\n",
      " ['Poor']\n",
      " ['Excellent']\n",
      " ['Unsuitable']\n",
      " ['Good']\n",
      " ['Poor']\n",
      " ['Very Poor']\n",
      " ['Poor']\n",
      " ['Poor']\n",
      " ['Poor']\n",
      " ['Unsuitable']\n",
      " ['Unsuitable']\n",
      " ['Unsuitable']\n",
      " ['Unsuitable']\n",
      " ['Very Poor']\n",
      " ['Unsuitable']\n",
      " ['Very Poor']\n",
      " ['Unsuitable']\n",
      " ['Poor']\n",
      " ['Poor']\n",
      " ['Very Poor']\n",
      " ['Unsuitable']\n",
      " ['Unsuitable']\n",
      " ['Unsuitable']\n",
      " ['Unsuitable']\n",
      " ['Unsuitable']\n",
      " ['Unsuitable']\n",
      " ['Unsuitable']\n",
      " ['Unsuitable']\n",
      " ['Unsuitable']\n",
      " ['Unsuitable']\n",
      " ['Unsuitable']\n",
      " ['Unsuitable']\n",
      " ['Unsuitable']\n",
      " ['Unsuitable']\n",
      " ['Unsuitable']\n",
      " ['Very Poor']\n",
      " ['Unsuitable']\n",
      " ['Good']\n",
      " ['Unsuitable']\n",
      " ['Poor']\n",
      " ['Unsuitable']\n",
      " ['Unsuitable']\n",
      " ['Very Poor']\n",
      " ['Unsuitable']\n",
      " ['Unsuitable']\n",
      " ['Very Poor']\n",
      " ['Good']\n",
      " ['Very Poor']\n",
      " ['Good']\n",
      " ['Poor']\n",
      " ['Poor']\n",
      " ['Poor']\n",
      " ['Poor']\n",
      " ['Poor']\n",
      " ['Poor']\n",
      " ['Excellent']\n",
      " ['Unsuitable']\n",
      " ['Poor']\n",
      " ['Very Poor']\n",
      " ['Unsuitable']\n",
      " ['Poor']\n",
      " ['Unsuitable']\n",
      " ['Poor']\n",
      " ['Poor']\n",
      " ['Unsuitable']\n",
      " ['Very Poor']\n",
      " ['Good']\n",
      " ['Unsuitable']\n",
      " ['Very Poor']\n",
      " ['Very Poor']\n",
      " ['Very Poor']\n",
      " ['Poor']\n",
      " ['Poor']\n",
      " ['Excellent']\n",
      " ['Good']\n",
      " ['Unsuitable']\n",
      " ['Poor']\n",
      " ['Unsuitable']\n",
      " ['Poor']\n",
      " ['Very Poor']\n",
      " ['Poor']\n",
      " ['Good']\n",
      " ['Good']\n",
      " ['Good']\n",
      " ['Poor']\n",
      " ['Poor']\n",
      " ['Poor']\n",
      " ['Good']\n",
      " ['Poor']\n",
      " ['Poor']\n",
      " ['Poor']\n",
      " ['Poor']\n",
      " ['Very Poor']\n",
      " ['Poor']\n",
      " ['Poor']\n",
      " ['Poor']\n",
      " ['Good']\n",
      " ['Poor']\n",
      " ['Poor']\n",
      " ['Good']\n",
      " ['Good']\n",
      " ['Poor']\n",
      " ['Very Poor']\n",
      " ['Good']\n",
      " ['Poor']\n",
      " ['Good']\n",
      " ['Good']\n",
      " ['Good']\n",
      " ['Unsuitable']\n",
      " ['Excellent']\n",
      " ['Poor']\n",
      " ['Good']\n",
      " ['Poor']\n",
      " ['Good']\n",
      " ['Good']\n",
      " ['Good']\n",
      " ['Good']\n",
      " ['Good']\n",
      " ['Excellent']\n",
      " ['Poor']\n",
      " ['Good']\n",
      " ['Very Poor']\n",
      " ['Poor']\n",
      " ['Good']\n",
      " ['Good']\n",
      " ['Good']\n",
      " ['Poor']\n",
      " ['Good']\n",
      " ['Excellent']\n",
      " ['Poor']\n",
      " ['Excellent']\n",
      " ['Good']\n",
      " ['Good']\n",
      " ['Good']\n",
      " ['Good']\n",
      " ['Good']\n",
      " ['Good']\n",
      " ['Poor']\n",
      " ['Poor']\n",
      " ['Unsuitable']\n",
      " ['Poor']\n",
      " ['Unsuitable']\n",
      " ['Good']\n",
      " ['Poor']\n",
      " ['Good']\n",
      " ['Unsuitable']\n",
      " ['Poor']\n",
      " ['Poor']\n",
      " ['Poor']\n",
      " ['Very Poor']\n",
      " ['Poor']\n",
      " ['Good']\n",
      " ['Good']\n",
      " ['Poor']\n",
      " ['Good']\n",
      " ['Poor']\n",
      " ['Good']\n",
      " ['Good']\n",
      " ['Poor']\n",
      " ['Good']\n",
      " ['Good']\n",
      " ['Good']\n",
      " ['Good']\n",
      " ['Good']\n",
      " ['Good']\n",
      " ['Good']\n",
      " ['Good']\n",
      " ['Poor']\n",
      " ['Good']\n",
      " ['Poor']\n",
      " ['Good']\n",
      " ['Good']\n",
      " ['Excellent']\n",
      " ['Poor']\n",
      " ['Good']\n",
      " ['Very Poor']\n",
      " ['Poor']\n",
      " ['Good']\n",
      " ['Unsuitable']\n",
      " ['Poor']\n",
      " ['Good']\n",
      " ['Excellent']\n",
      " ['Good']\n",
      " ['Good']\n",
      " ['Poor']\n",
      " ['Very Poor']\n",
      " ['Unsuitable']\n",
      " ['Poor']\n",
      " ['Very Poor']\n",
      " ['Poor']\n",
      " ['Good']\n",
      " ['Very Poor']\n",
      " ['Poor']\n",
      " ['Unsuitable']\n",
      " ['Unsuitable']\n",
      " ['Poor']\n",
      " ['Unsuitable']\n",
      " ['Very Poor']\n",
      " ['Very Poor']\n",
      " ['Poor']\n",
      " ['Very Poor']\n",
      " ['Good']\n",
      " ['Unsuitable']\n",
      " ['Very Poor']\n",
      " ['Good']\n",
      " ['Poor']\n",
      " ['Unsuitable']\n",
      " ['Good']\n",
      " ['Good']\n",
      " ['Poor']\n",
      " ['Poor']\n",
      " ['Very Poor']\n",
      " ['Poor']\n",
      " ['Unsuitable']\n",
      " ['Very Poor']\n",
      " ['Very Poor']\n",
      " ['Excellent']\n",
      " ['Unsuitable']\n",
      " ['Poor']\n",
      " ['Unsuitable']\n",
      " ['Unsuitable']\n",
      " ['Unsuitable']\n",
      " ['Unsuitable']\n",
      " ['Unsuitable']\n",
      " ['Very Poor']\n",
      " ['Excellent']\n",
      " ['Unsuitable']\n",
      " ['Unsuitable']\n",
      " ['Unsuitable']\n",
      " ['Unsuitable']\n",
      " ['Unsuitable']\n",
      " ['Unsuitable']\n",
      " ['Unsuitable']\n",
      " ['Unsuitable']\n",
      " ['Poor']\n",
      " ['Unsuitable']\n",
      " ['Unsuitable']\n",
      " ['Unsuitable']\n",
      " ['Unsuitable']\n",
      " ['Unsuitable']\n",
      " ['Unsuitable']\n",
      " ['Unsuitable']\n",
      " ['Unsuitable']\n",
      " ['Very Poor']\n",
      " ['Unsuitable']\n",
      " ['Unsuitable']\n",
      " ['Unsuitable']\n",
      " ['Unsuitable']\n",
      " ['Poor']\n",
      " ['Very Poor']\n",
      " ['Unsuitable']\n",
      " ['Unsuitable']\n",
      " ['Very Poor']\n",
      " ['Unsuitable']\n",
      " ['Very Poor']\n",
      " ['Unsuitable']\n",
      " ['Unsuitable']\n",
      " ['Very Poor']\n",
      " ['Unsuitable']\n",
      " ['Very Poor']\n",
      " ['Unsuitable']\n",
      " ['Good']\n",
      " ['Unsuitable']\n",
      " ['Very Poor']\n",
      " ['Unsuitable']\n",
      " ['Unsuitable']\n",
      " ['Unsuitable']\n",
      " ['Unsuitable']\n",
      " ['Very Poor']\n",
      " ['Unsuitable']\n",
      " ['Poor']\n",
      " ['Unsuitable']\n",
      " ['Very Poor']\n",
      " ['Unsuitable']\n",
      " ['Unsuitable']\n",
      " ['Very Poor']\n",
      " ['Very Poor']\n",
      " ['Very Poor']\n",
      " ['Unsuitable']\n",
      " ['Unsuitable']\n",
      " ['Unsuitable']\n",
      " ['Very Poor']\n",
      " ['Unsuitable']\n",
      " ['Unsuitable']\n",
      " ['Unsuitable']\n",
      " ['Unsuitable']\n",
      " ['Unsuitable']\n",
      " ['Unsuitable']\n",
      " ['Unsuitable']\n",
      " ['Unsuitable']\n",
      " ['Unsuitable']\n",
      " ['Unsuitable']\n",
      " ['Unsuitable']\n",
      " ['Unsuitable']\n",
      " ['Unsuitable']\n",
      " ['Unsuitable']\n",
      " ['Unsuitable']\n",
      " ['Excellent']\n",
      " ['Unsuitable']\n",
      " ['Unsuitable']\n",
      " ['Unsuitable']\n",
      " ['Unsuitable']\n",
      " ['Unsuitable']\n",
      " ['Unsuitable']\n",
      " ['Unsuitable']\n",
      " ['Unsuitable']\n",
      " ['Excellent']\n",
      " ['Unsuitable']\n",
      " ['Good']\n",
      " ['Unsuitable']\n",
      " ['Unsuitable']\n",
      " ['Unsuitable']\n",
      " ['Unsuitable']\n",
      " ['Unsuitable']\n",
      " ['Good']\n",
      " ['Very Poor']]\n"
     ]
    }
   ],
   "source": [
    "print(y)"
   ]
  },
  {
   "cell_type": "code",
   "execution_count": 37,
   "id": "8d2b9daf",
   "metadata": {},
   "outputs": [],
   "source": [
    "X_train, X_test, y_train, y_test = train_test_split(X,y, test_size=0.20)"
   ]
  },
  {
   "cell_type": "code",
   "execution_count": 38,
   "id": "64285921",
   "metadata": {},
   "outputs": [
    {
     "data": {
      "text/plain": [
       "((445, 6), (112, 6))"
      ]
     },
     "execution_count": 38,
     "metadata": {},
     "output_type": "execute_result"
    }
   ],
   "source": [
    "X_train.shape, X_test.shape"
   ]
  },
  {
   "cell_type": "code",
   "execution_count": 39,
   "id": "470ff419",
   "metadata": {},
   "outputs": [
    {
     "data": {
      "text/plain": [
       "array([[-1.14893603, -0.09710451,  0.00581115, -0.40961678, -0.52644692,\n",
       "         0.14742715],\n",
       "       [-1.14893603, -0.25387904, -0.75579183, -0.44467644, -0.52644692,\n",
       "         0.51742018],\n",
       "       [-1.14893603,  0.05967002, -0.18458959, -0.58491506, -0.52644692,\n",
       "        -0.08073523],\n",
       "       ...,\n",
       "       [ 0.22999187, -0.25387904, -0.75579183,  0.32663597, -0.25620417,\n",
       "        -0.38597948],\n",
       "       [ 0.91945582,  0.92192993,  0.5770134 , -0.8420192 , -0.16301701,\n",
       "        -0.38597948],\n",
       "       [ 0.22999187,  1.07870445, -0.18458959, -0.02396058,  0.0233573 ,\n",
       "        -0.38597948]])"
      ]
     },
     "execution_count": 39,
     "metadata": {},
     "output_type": "execute_result"
    }
   ],
   "source": [
    "scaler = StandardScaler()\n",
    "X = scaler.fit_transform(X)\n",
    "X"
   ]
  },
  {
   "cell_type": "markdown",
   "id": "baf7ecc2",
   "metadata": {},
   "source": [
    "# Classification"
   ]
  },
  {
   "cell_type": "markdown",
   "id": "b85a23c6",
   "metadata": {},
   "source": [
    "RandomForest Classifier"
   ]
  },
  {
   "cell_type": "code",
   "execution_count": 40,
   "id": "13a73713",
   "metadata": {},
   "outputs": [],
   "source": [
    "from sklearn.ensemble import RandomForestClassifier\n",
    "\n",
    "#creating obj\n",
    "model_rf = RandomForestClassifier()"
   ]
  },
  {
   "cell_type": "code",
   "execution_count": 41,
   "id": "f7a62f04",
   "metadata": {},
   "outputs": [
    {
     "name": "stderr",
     "output_type": "stream",
     "text": [
      "C:\\Users\\StockOverflow\\AppData\\Local\\Temp\\ipykernel_9360\\3858345638.py:2: DataConversionWarning: A column-vector y was passed when a 1d array was expected. Please change the shape of y to (n_samples,), for example using ravel().\n",
      "  model_rf.fit(X_train, y_train)\n"
     ]
    },
    {
     "data": {
      "text/plain": [
       "RandomForestClassifier()"
      ]
     },
     "execution_count": 41,
     "metadata": {},
     "output_type": "execute_result"
    }
   ],
   "source": [
    "#Training Model of RF\n",
    "model_rf.fit(X_train, y_train)"
   ]
  },
  {
   "cell_type": "code",
   "execution_count": 42,
   "id": "ab8d8a1d",
   "metadata": {},
   "outputs": [
    {
     "name": "stdout",
     "output_type": "stream",
     "text": [
      "RandomForest Training Score :  1.0\n"
     ]
    }
   ],
   "source": [
    "rf_score = model_rf.score(X_train,y_train)\n",
    "print(\"RandomForest Training Score : \", rf_score)"
   ]
  },
  {
   "cell_type": "code",
   "execution_count": 43,
   "id": "9e02223f",
   "metadata": {},
   "outputs": [
    {
     "name": "stderr",
     "output_type": "stream",
     "text": [
      "C:\\Users\\StockOverflow\\anaconda3\\lib\\site-packages\\sklearn\\model_selection\\_validation.py:680: DataConversionWarning: A column-vector y was passed when a 1d array was expected. Please change the shape of y to (n_samples,), for example using ravel().\n",
      "  estimator.fit(X_train, y_train, **fit_params)\n",
      "C:\\Users\\StockOverflow\\anaconda3\\lib\\site-packages\\sklearn\\model_selection\\_validation.py:680: DataConversionWarning: A column-vector y was passed when a 1d array was expected. Please change the shape of y to (n_samples,), for example using ravel().\n",
      "  estimator.fit(X_train, y_train, **fit_params)\n",
      "C:\\Users\\StockOverflow\\anaconda3\\lib\\site-packages\\sklearn\\model_selection\\_validation.py:680: DataConversionWarning: A column-vector y was passed when a 1d array was expected. Please change the shape of y to (n_samples,), for example using ravel().\n",
      "  estimator.fit(X_train, y_train, **fit_params)\n",
      "C:\\Users\\StockOverflow\\anaconda3\\lib\\site-packages\\sklearn\\model_selection\\_validation.py:680: DataConversionWarning: A column-vector y was passed when a 1d array was expected. Please change the shape of y to (n_samples,), for example using ravel().\n",
      "  estimator.fit(X_train, y_train, **fit_params)\n",
      "C:\\Users\\StockOverflow\\anaconda3\\lib\\site-packages\\sklearn\\model_selection\\_validation.py:680: DataConversionWarning: A column-vector y was passed when a 1d array was expected. Please change the shape of y to (n_samples,), for example using ravel().\n",
      "  estimator.fit(X_train, y_train, **fit_params)\n",
      "C:\\Users\\StockOverflow\\anaconda3\\lib\\site-packages\\sklearn\\model_selection\\_validation.py:680: DataConversionWarning: A column-vector y was passed when a 1d array was expected. Please change the shape of y to (n_samples,), for example using ravel().\n",
      "  estimator.fit(X_train, y_train, **fit_params)\n"
     ]
    },
    {
     "name": "stdout",
     "output_type": "stream",
     "text": [
      "CV Mean Score :  0.9236036036036036\n"
     ]
    }
   ],
   "source": [
    "rfcv_score = cross_val_score(model_rf, X_train, y_train, cv=6)\n",
    "print(\"CV Mean Score : \", rfcv_score.mean())"
   ]
  },
  {
   "cell_type": "code",
   "execution_count": 44,
   "id": "4ef80ded",
   "metadata": {},
   "outputs": [],
   "source": [
    "#making prediction using RF\n",
    "pred_rf = model_rf.predict(X_test)"
   ]
  },
  {
   "cell_type": "code",
   "execution_count": 45,
   "id": "ad9a1805",
   "metadata": {},
   "outputs": [
    {
     "name": "stdout",
     "output_type": "stream",
     "text": [
      "Accuracy Score = 91.96428571428571\n"
     ]
    }
   ],
   "source": [
    "accuracy_score_rf = accuracy_score(y_test, pred_rf)*100\n",
    "print(f\"Accuracy Score = {accuracy_score_rf}\")"
   ]
  },
  {
   "cell_type": "code",
   "execution_count": 46,
   "id": "d6e8a2d9",
   "metadata": {},
   "outputs": [
    {
     "data": {
      "text/plain": [
       "array([[ 4,  0,  0,  0,  0],\n",
       "       [ 0, 21,  1,  0,  0],\n",
       "       [ 0,  1, 25,  0,  0],\n",
       "       [ 0,  0,  3, 39,  2],\n",
       "       [ 0,  0,  2,  0, 14]], dtype=int64)"
      ]
     },
     "execution_count": 46,
     "metadata": {},
     "output_type": "execute_result"
    }
   ],
   "source": [
    "confusion_matrix_rf = confusion_matrix(y_test, pred_rf)\n",
    "confusion_matrix_rf"
   ]
  },
  {
   "cell_type": "code",
   "execution_count": 47,
   "id": "1c199146",
   "metadata": {},
   "outputs": [
    {
     "name": "stdout",
     "output_type": "stream",
     "text": [
      "Random Forest Classification Report = \n",
      "               precision    recall  f1-score   support\n",
      "\n",
      "   Excellent       1.00      1.00      1.00         4\n",
      "        Good       0.95      0.95      0.95        22\n",
      "        Poor       0.81      0.96      0.88        26\n",
      "  Unsuitable       1.00      0.89      0.94        44\n",
      "   Very Poor       0.88      0.88      0.88        16\n",
      "\n",
      "    accuracy                           0.92       112\n",
      "   macro avg       0.93      0.94      0.93       112\n",
      "weighted avg       0.93      0.92      0.92       112\n",
      "\n"
     ]
    },
    {
     "data": {
      "text/plain": [
       "<AxesSubplot:>"
      ]
     },
     "execution_count": 47,
     "metadata": {},
     "output_type": "execute_result"
    }
   ],
   "source": [
    "classification_report_rf = classification_report(y_test,pred_rf)\n",
    "print(f\"Random Forest Classification Report = \\n {classification_report_rf}\")\n",
    "sns.set(rc={'figure.figsize': (8, 5)})\n",
    "sns.heatmap(confusion_matrix(y_test, pred_rf), annot=True, fmt='.2f')"
   ]
  },
  {
   "cell_type": "markdown",
   "id": "4dccfb4e",
   "metadata": {},
   "source": [
    "Decision Tree Classifier"
   ]
  },
  {
   "cell_type": "code",
   "execution_count": 48,
   "id": "c17da4a1",
   "metadata": {},
   "outputs": [],
   "source": [
    "from sklearn.tree import DecisionTreeClassifier\n",
    "model_dt = DecisionTreeClassifier(criterion='gini', min_samples_split=6, splitter='best')\n"
   ]
  },
  {
   "cell_type": "code",
   "execution_count": 49,
   "id": "da1b1068",
   "metadata": {},
   "outputs": [
    {
     "data": {
      "text/plain": [
       "DecisionTreeClassifier(min_samples_split=6)"
      ]
     },
     "execution_count": 49,
     "metadata": {},
     "output_type": "execute_result"
    }
   ],
   "source": [
    "model_dt.fit(X_train,y_train)\n"
   ]
  },
  {
   "cell_type": "code",
   "execution_count": 50,
   "id": "50dffa26",
   "metadata": {},
   "outputs": [
    {
     "name": "stdout",
     "output_type": "stream",
     "text": [
      "Decision Tree Training Score :  0.9842696629213483\n"
     ]
    }
   ],
   "source": [
    "dt_score = model_dt.score(X_train,y_train)\n",
    "print(\"Decision Tree Training Score : \", dt_score)"
   ]
  },
  {
   "cell_type": "code",
   "execution_count": 51,
   "id": "c495e2df",
   "metadata": {},
   "outputs": [
    {
     "name": "stdout",
     "output_type": "stream",
     "text": [
      "CV Mean Score :  0.9055855855855856\n"
     ]
    }
   ],
   "source": [
    "dtcv_score = cross_val_score(model_dt, X_train, y_train, cv=6)\n",
    "print(\"CV Mean Score : \", dtcv_score.mean())"
   ]
  },
  {
   "cell_type": "code",
   "execution_count": 52,
   "id": "f32c356e",
   "metadata": {},
   "outputs": [],
   "source": [
    "pred_dt = model_dt.predict(X_test)"
   ]
  },
  {
   "cell_type": "code",
   "execution_count": 53,
   "id": "00f010ff",
   "metadata": {},
   "outputs": [
    {
     "name": "stdout",
     "output_type": "stream",
     "text": [
      "Accuracy Score = 92.85714285714286\n"
     ]
    }
   ],
   "source": [
    "accuracy_score_dt = accuracy_score(y_test, pred_dt)*100\n",
    "print(f\"Accuracy Score = {accuracy_score_dt}\")"
   ]
  },
  {
   "cell_type": "code",
   "execution_count": 54,
   "id": "3abee73f",
   "metadata": {},
   "outputs": [
    {
     "data": {
      "text/plain": [
       "array([[ 4,  0,  0,  0,  0],\n",
       "       [ 0, 19,  0,  3,  0],\n",
       "       [ 0,  0, 25,  0,  1],\n",
       "       [ 0,  1,  1, 40,  2],\n",
       "       [ 0,  0,  0,  0, 16]], dtype=int64)"
      ]
     },
     "execution_count": 54,
     "metadata": {},
     "output_type": "execute_result"
    }
   ],
   "source": [
    "confusion_matrix_dt = confusion_matrix(y_test, pred_dt)\n",
    "confusion_matrix_dt"
   ]
  },
  {
   "cell_type": "code",
   "execution_count": 55,
   "id": "b1a10d85",
   "metadata": {},
   "outputs": [
    {
     "name": "stdout",
     "output_type": "stream",
     "text": [
      "Decision Tree Classification Report = \n",
      "               precision    recall  f1-score   support\n",
      "\n",
      "   Excellent       1.00      1.00      1.00         4\n",
      "        Good       0.95      0.86      0.90        22\n",
      "        Poor       0.96      0.96      0.96        26\n",
      "  Unsuitable       0.93      0.91      0.92        44\n",
      "   Very Poor       0.84      1.00      0.91        16\n",
      "\n",
      "    accuracy                           0.93       112\n",
      "   macro avg       0.94      0.95      0.94       112\n",
      "weighted avg       0.93      0.93      0.93       112\n",
      "\n"
     ]
    },
    {
     "data": {
      "text/plain": [
       "<AxesSubplot:>"
      ]
     },
     "execution_count": 55,
     "metadata": {},
     "output_type": "execute_result"
    }
   ],
   "source": [
    "classification_report_dt = classification_report(y_test,pred_dt)\n",
    "print(f\"Decision Tree Classification Report = \\n {classification_report_dt}\")\n",
    "sns.set(rc={'figure.figsize': (8, 5)})\n",
    "sns.heatmap(confusion_matrix(y_test, pred_dt), annot=True, fmt='.2f')"
   ]
  },
  {
   "cell_type": "markdown",
   "id": "94315543",
   "metadata": {},
   "source": [
    "SVM Classifier"
   ]
  },
  {
   "cell_type": "code",
   "execution_count": 56,
   "id": "415a2a63",
   "metadata": {},
   "outputs": [
    {
     "name": "stderr",
     "output_type": "stream",
     "text": [
      "C:\\Users\\StockOverflow\\anaconda3\\lib\\site-packages\\sklearn\\utils\\validation.py:993: DataConversionWarning: A column-vector y was passed when a 1d array was expected. Please change the shape of y to (n_samples, ), for example using ravel().\n",
      "  y = column_or_1d(y, warn=True)\n"
     ]
    },
    {
     "data": {
      "text/plain": [
       "SVC(kernel='linear')"
      ]
     },
     "execution_count": 56,
     "metadata": {},
     "output_type": "execute_result"
    }
   ],
   "source": [
    "from sklearn.svm import SVC\n",
    "model_svclassifier = SVC(kernel='linear')\n",
    "model_svclassifier.fit(X_train,y_train)\n"
   ]
  },
  {
   "cell_type": "code",
   "execution_count": 57,
   "id": "7359b3e0",
   "metadata": {},
   "outputs": [
    {
     "name": "stdout",
     "output_type": "stream",
     "text": [
      "Support Vector Machine Training Score :  0.4247191011235955\n"
     ]
    }
   ],
   "source": [
    "svm_score = model_svclassifier.score(X_train,y_train)\n",
    "print(\"Support Vector Machine Training Score : \", svm_score.mean())"
   ]
  },
  {
   "cell_type": "code",
   "execution_count": 58,
   "id": "53810f83",
   "metadata": {},
   "outputs": [
    {
     "name": "stdout",
     "output_type": "stream",
     "text": [
      "CV Mean Score :  0.42024024024024026\n"
     ]
    },
    {
     "name": "stderr",
     "output_type": "stream",
     "text": [
      "C:\\Users\\StockOverflow\\anaconda3\\lib\\site-packages\\sklearn\\utils\\validation.py:993: DataConversionWarning: A column-vector y was passed when a 1d array was expected. Please change the shape of y to (n_samples, ), for example using ravel().\n",
      "  y = column_or_1d(y, warn=True)\n",
      "C:\\Users\\StockOverflow\\anaconda3\\lib\\site-packages\\sklearn\\utils\\validation.py:993: DataConversionWarning: A column-vector y was passed when a 1d array was expected. Please change the shape of y to (n_samples, ), for example using ravel().\n",
      "  y = column_or_1d(y, warn=True)\n",
      "C:\\Users\\StockOverflow\\anaconda3\\lib\\site-packages\\sklearn\\utils\\validation.py:993: DataConversionWarning: A column-vector y was passed when a 1d array was expected. Please change the shape of y to (n_samples, ), for example using ravel().\n",
      "  y = column_or_1d(y, warn=True)\n",
      "C:\\Users\\StockOverflow\\anaconda3\\lib\\site-packages\\sklearn\\utils\\validation.py:993: DataConversionWarning: A column-vector y was passed when a 1d array was expected. Please change the shape of y to (n_samples, ), for example using ravel().\n",
      "  y = column_or_1d(y, warn=True)\n",
      "C:\\Users\\StockOverflow\\anaconda3\\lib\\site-packages\\sklearn\\utils\\validation.py:993: DataConversionWarning: A column-vector y was passed when a 1d array was expected. Please change the shape of y to (n_samples, ), for example using ravel().\n",
      "  y = column_or_1d(y, warn=True)\n",
      "C:\\Users\\StockOverflow\\anaconda3\\lib\\site-packages\\sklearn\\utils\\validation.py:993: DataConversionWarning: A column-vector y was passed when a 1d array was expected. Please change the shape of y to (n_samples, ), for example using ravel().\n",
      "  y = column_or_1d(y, warn=True)\n"
     ]
    }
   ],
   "source": [
    "svmcv_score = cross_val_score(model_svclassifier, X_train, y_train, cv=6)\n",
    "print(\"CV Mean Score : \", svmcv_score.mean())"
   ]
  },
  {
   "cell_type": "code",
   "execution_count": 59,
   "id": "b3ba1b6b",
   "metadata": {},
   "outputs": [],
   "source": [
    "pred_svclass = model_svclassifier.predict(X_test)"
   ]
  },
  {
   "cell_type": "code",
   "execution_count": 60,
   "id": "2db69069",
   "metadata": {},
   "outputs": [
    {
     "name": "stdout",
     "output_type": "stream",
     "text": [
      "Accuracy Score = 39.285714285714285\n"
     ]
    }
   ],
   "source": [
    "accuracy_score_svc = accuracy_score(y_test, pred_svclass)*100\n",
    "print(f\"Accuracy Score = {accuracy_score_svc}\")"
   ]
  },
  {
   "cell_type": "code",
   "execution_count": 61,
   "id": "ca3a9a5c",
   "metadata": {},
   "outputs": [
    {
     "data": {
      "text/plain": [
       "array([[ 0,  0,  3,  1,  0],\n",
       "       [ 0,  0,  5, 17,  0],\n",
       "       [ 0,  0,  1, 25,  0],\n",
       "       [ 0,  0,  1, 43,  0],\n",
       "       [ 0,  0,  1, 15,  0]], dtype=int64)"
      ]
     },
     "execution_count": 61,
     "metadata": {},
     "output_type": "execute_result"
    }
   ],
   "source": [
    "confusion_matrix_svc = confusion_matrix(y_test, pred_svclass)\n",
    "confusion_matrix_svc"
   ]
  },
  {
   "cell_type": "code",
   "execution_count": 62,
   "id": "8808b9cc",
   "metadata": {},
   "outputs": [
    {
     "name": "stdout",
     "output_type": "stream",
     "text": [
      "SVM Classification Report = \n",
      "               precision    recall  f1-score   support\n",
      "\n",
      "   Excellent       0.00      0.00      0.00         4\n",
      "        Good       0.00      0.00      0.00        22\n",
      "        Poor       0.09      0.04      0.05        26\n",
      "  Unsuitable       0.43      0.98      0.59        44\n",
      "   Very Poor       0.00      0.00      0.00        16\n",
      "\n",
      "    accuracy                           0.39       112\n",
      "   macro avg       0.10      0.20      0.13       112\n",
      "weighted avg       0.19      0.39      0.25       112\n",
      "\n"
     ]
    },
    {
     "name": "stderr",
     "output_type": "stream",
     "text": [
      "C:\\Users\\StockOverflow\\anaconda3\\lib\\site-packages\\sklearn\\metrics\\_classification.py:1318: UndefinedMetricWarning: Precision and F-score are ill-defined and being set to 0.0 in labels with no predicted samples. Use `zero_division` parameter to control this behavior.\n",
      "  _warn_prf(average, modifier, msg_start, len(result))\n",
      "C:\\Users\\StockOverflow\\anaconda3\\lib\\site-packages\\sklearn\\metrics\\_classification.py:1318: UndefinedMetricWarning: Precision and F-score are ill-defined and being set to 0.0 in labels with no predicted samples. Use `zero_division` parameter to control this behavior.\n",
      "  _warn_prf(average, modifier, msg_start, len(result))\n",
      "C:\\Users\\StockOverflow\\anaconda3\\lib\\site-packages\\sklearn\\metrics\\_classification.py:1318: UndefinedMetricWarning: Precision and F-score are ill-defined and being set to 0.0 in labels with no predicted samples. Use `zero_division` parameter to control this behavior.\n",
      "  _warn_prf(average, modifier, msg_start, len(result))\n"
     ]
    },
    {
     "data": {
      "text/plain": [
       "<AxesSubplot:>"
      ]
     },
     "execution_count": 62,
     "metadata": {},
     "output_type": "execute_result"
    }
   ],
   "source": [
    "classification_report_svc = classification_report(y_test,pred_svclass)\n",
    "print(f\"SVM Classification Report = \\n {classification_report_svc}\")\n",
    "sns.set(rc={'figure.figsize': (8, 5)})\n",
    "sns.heatmap(confusion_matrix(y_test, pred_svclass), annot=True, fmt='.2f')"
   ]
  },
  {
   "cell_type": "markdown",
   "id": "4e897041",
   "metadata": {},
   "source": [
    "XGBoost Classifier"
   ]
  },
  {
   "cell_type": "code",
   "execution_count": 63,
   "id": "8d51a5af",
   "metadata": {},
   "outputs": [
    {
     "name": "stderr",
     "output_type": "stream",
     "text": [
      "C:\\Users\\StockOverflow\\anaconda3\\lib\\site-packages\\sklearn\\preprocessing\\_label.py:115: DataConversionWarning: A column-vector y was passed when a 1d array was expected. Please change the shape of y to (n_samples, ), for example using ravel().\n",
      "  y = column_or_1d(y, warn=True)\n"
     ]
    }
   ],
   "source": [
    "le = LabelEncoder()\n",
    "y_train = le.fit_transform(y_train)"
   ]
  },
  {
   "cell_type": "code",
   "execution_count": 64,
   "id": "d5b5487b",
   "metadata": {},
   "outputs": [],
   "source": [
    "#XGBoost Classifier\n",
    "from xgboost import XGBClassifier\n",
    "\n",
    "#creating model\n",
    "model_xgb = XGBClassifier(max_depth= 8, n_estimators= 125, random_state= 0,  learning_rate= 0.05, n_jobs=5)"
   ]
  },
  {
   "cell_type": "markdown",
   "id": "7c435e42",
   "metadata": {},
   "source": [
    "apply it to XGBoost model for training:"
   ]
  },
  {
   "cell_type": "code",
   "execution_count": 65,
   "id": "5c851dd3",
   "metadata": {},
   "outputs": [
    {
     "data": {
      "text/plain": [
       "XGBClassifier(base_score=None, booster=None, callbacks=None,\n",
       "              colsample_bylevel=None, colsample_bynode=None,\n",
       "              colsample_bytree=None, early_stopping_rounds=None,\n",
       "              enable_categorical=False, eval_metric=None, feature_types=None,\n",
       "              gamma=None, gpu_id=None, grow_policy=None, importance_type=None,\n",
       "              interaction_constraints=None, learning_rate=0.05, max_bin=None,\n",
       "              max_cat_threshold=None, max_cat_to_onehot=None,\n",
       "              max_delta_step=None, max_depth=8, max_leaves=None,\n",
       "              min_child_weight=None, missing=nan, monotone_constraints=None,\n",
       "              n_estimators=125, n_jobs=5, num_parallel_tree=None,\n",
       "              objective='multi:softprob', predictor=None, ...)"
      ]
     },
     "execution_count": 65,
     "metadata": {},
     "output_type": "execute_result"
    }
   ],
   "source": [
    "#training model\n",
    "model_xgb.fit(X = X_train,y = y_train)"
   ]
  },
  {
   "cell_type": "markdown",
   "id": "b2cebf31",
   "metadata": {},
   "source": [
    "After training to find out its confusion matrix you must inverse transform the predicted y values, as shown:"
   ]
  },
  {
   "cell_type": "code",
   "execution_count": 66,
   "id": "98efa247",
   "metadata": {},
   "outputs": [],
   "source": [
    "y_pred = model_xgb.predict(X_test)\n",
    "y_pred = le.inverse_transform(y_pred)"
   ]
  },
  {
   "cell_type": "code",
   "execution_count": 67,
   "id": "14f98228",
   "metadata": {},
   "outputs": [
    {
     "name": "stdout",
     "output_type": "stream",
     "text": [
      "XGBoost Training Score :  1.0\n"
     ]
    }
   ],
   "source": [
    "xgb_score = model_xgb.score(X_train,y_train)\n",
    "print(\"XGBoost Training Score : \", xgb_score)"
   ]
  },
  {
   "cell_type": "code",
   "execution_count": 68,
   "id": "86be26d2",
   "metadata": {},
   "outputs": [
    {
     "name": "stdout",
     "output_type": "stream",
     "text": [
      "CV Mean Score :  0.9349999999999999\n"
     ]
    }
   ],
   "source": [
    "xgbcv_score = cross_val_score(model_xgb, X_train, y_train, cv=10)\n",
    "print(\"CV Mean Score : \", xgbcv_score.mean())"
   ]
  },
  {
   "cell_type": "code",
   "execution_count": 69,
   "id": "9222bc06",
   "metadata": {},
   "outputs": [
    {
     "name": "stdout",
     "output_type": "stream",
     "text": [
      "Accuracy Score :  0.9285714285714286\n"
     ]
    }
   ],
   "source": [
    "xgb_as = accuracy_score(y_test, y_pred)\n",
    "print(\"Accuracy Score : \", xgb_as)"
   ]
  },
  {
   "cell_type": "code",
   "execution_count": 70,
   "id": "a10ac452",
   "metadata": {},
   "outputs": [
    {
     "data": {
      "text/plain": [
       "array([[ 4,  0,  0,  0,  0],\n",
       "       [ 0, 20,  2,  0,  0],\n",
       "       [ 0,  0, 26,  0,  0],\n",
       "       [ 0,  1,  1, 40,  2],\n",
       "       [ 0,  0,  2,  0, 14]], dtype=int64)"
      ]
     },
     "execution_count": 70,
     "metadata": {},
     "output_type": "execute_result"
    }
   ],
   "source": [
    "xgb_cm = confusion_matrix(y_test, y_pred)\n",
    "xgb_cm"
   ]
  },
  {
   "cell_type": "code",
   "execution_count": 71,
   "id": "d6723528",
   "metadata": {},
   "outputs": [
    {
     "name": "stdout",
     "output_type": "stream",
     "text": [
      "XGBoost Classification Report = \n",
      "               precision    recall  f1-score   support\n",
      "\n",
      "   Excellent       1.00      1.00      1.00         4\n",
      "        Good       0.95      0.91      0.93        22\n",
      "        Poor       0.84      1.00      0.91        26\n",
      "  Unsuitable       1.00      0.91      0.95        44\n",
      "   Very Poor       0.88      0.88      0.88        16\n",
      "\n",
      "    accuracy                           0.93       112\n",
      "   macro avg       0.93      0.94      0.93       112\n",
      "weighted avg       0.94      0.93      0.93       112\n",
      "\n"
     ]
    },
    {
     "data": {
      "text/plain": [
       "<AxesSubplot:>"
      ]
     },
     "execution_count": 71,
     "metadata": {},
     "output_type": "execute_result"
    }
   ],
   "source": [
    "classification_report_xgb = classification_report(y_test,y_pred)\n",
    "print(f\"XGBoost Classification Report = \\n {classification_report_xgb}\")\n",
    "sns.set(rc={'figure.figsize': (8, 5)})\n",
    "sns.heatmap(confusion_matrix(y_test, y_pred), annot=True, fmt='.2f')"
   ]
  },
  {
   "cell_type": "code",
   "execution_count": 72,
   "id": "72dabd74",
   "metadata": {},
   "outputs": [
    {
     "data": {
      "text/html": [
       "<div>\n",
       "<style scoped>\n",
       "    .dataframe tbody tr th:only-of-type {\n",
       "        vertical-align: middle;\n",
       "    }\n",
       "\n",
       "    .dataframe tbody tr th {\n",
       "        vertical-align: top;\n",
       "    }\n",
       "\n",
       "    .dataframe thead th {\n",
       "        text-align: right;\n",
       "    }\n",
       "</style>\n",
       "<table border=\"1\" class=\"dataframe\">\n",
       "  <thead>\n",
       "    <tr style=\"text-align: right;\">\n",
       "      <th></th>\n",
       "      <th>Model</th>\n",
       "      <th>Cross-Validation score</th>\n",
       "    </tr>\n",
       "  </thead>\n",
       "  <tbody>\n",
       "    <tr>\n",
       "      <th>3</th>\n",
       "      <td>XGBoost</td>\n",
       "      <td>0.935000</td>\n",
       "    </tr>\n",
       "    <tr>\n",
       "      <th>0</th>\n",
       "      <td>Random Forest</td>\n",
       "      <td>0.923604</td>\n",
       "    </tr>\n",
       "    <tr>\n",
       "      <th>1</th>\n",
       "      <td>Decision Tree</td>\n",
       "      <td>0.905586</td>\n",
       "    </tr>\n",
       "    <tr>\n",
       "      <th>2</th>\n",
       "      <td>SVM</td>\n",
       "      <td>0.420240</td>\n",
       "    </tr>\n",
       "  </tbody>\n",
       "</table>\n",
       "</div>"
      ],
      "text/plain": [
       "           Model  Cross-Validation score\n",
       "3        XGBoost                0.935000\n",
       "0  Random Forest                0.923604\n",
       "1  Decision Tree                0.905586\n",
       "2            SVM                0.420240"
      ]
     },
     "execution_count": 72,
     "metadata": {},
     "output_type": "execute_result"
    }
   ],
   "source": [
    "models = pd.DataFrame({\n",
    "    'Model':['Random Forest','Decision Tree', 'SVM', 'XGBoost'],\n",
    "    'Cross-Validation score' :[rfcv_score.mean(), dtcv_score.mean(), svmcv_score.mean(), xgbcv_score.mean()]\n",
    "})\n",
    "models\n",
    "sns.barplot(x='Cross-Validation score', y='Model', data=models)\n",
    "#plt.figure(figsize=(8,6.5))\n",
    "models.sort_values(by='Cross-Validation score', ascending=False)"
   ]
  },
  {
   "cell_type": "code",
   "execution_count": null,
   "id": "9f388208",
   "metadata": {},
   "outputs": [],
   "source": []
  },
  {
   "cell_type": "code",
   "execution_count": null,
   "id": "f4e8cce8",
   "metadata": {},
   "outputs": [],
   "source": []
  },
  {
   "cell_type": "code",
   "execution_count": null,
   "id": "04931c9e",
   "metadata": {},
   "outputs": [],
   "source": []
  },
  {
   "cell_type": "code",
   "execution_count": null,
   "id": "56dcbebf",
   "metadata": {},
   "outputs": [],
   "source": []
  },
  {
   "cell_type": "code",
   "execution_count": null,
   "id": "85dcc320",
   "metadata": {},
   "outputs": [],
   "source": []
  },
  {
   "cell_type": "code",
   "execution_count": null,
   "id": "be1e19fe",
   "metadata": {},
   "outputs": [],
   "source": []
  },
  {
   "cell_type": "code",
   "execution_count": null,
   "id": "d6d4c173",
   "metadata": {},
   "outputs": [],
   "source": []
  }
 ],
 "metadata": {
  "kernelspec": {
   "display_name": "Python 3 (ipykernel)",
   "language": "python",
   "name": "python3"
  },
  "language_info": {
   "codemirror_mode": {
    "name": "ipython",
    "version": 3
   },
   "file_extension": ".py",
   "mimetype": "text/x-python",
   "name": "python",
   "nbconvert_exporter": "python",
   "pygments_lexer": "ipython3",
   "version": "3.9.13"
  }
 },
 "nbformat": 4,
 "nbformat_minor": 5
}
